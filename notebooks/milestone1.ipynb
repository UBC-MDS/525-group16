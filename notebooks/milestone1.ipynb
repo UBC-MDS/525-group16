{
 "cells": [
  {
   "cell_type": "markdown",
   "metadata": {},
   "source": [
    "# Group 16 Milestone 1"
   ]
  },
  {
   "cell_type": "code",
   "execution_count": 8,
   "metadata": {},
   "outputs": [],
   "source": [
    "import os\n",
    "import os.path\n",
    "import zipfile\n",
    "import requests\n",
    "import json\n",
    "import pandas as pd\n",
    "from urllib.request import urlretrieve\n",
    "import glob\n",
    "import re\n",
    "import dask.dataframe as dd\n",
    "import matplotlib.pyplot as plt\n",
    "%matplotlib inline"
   ]
  },
  {
   "cell_type": "code",
   "execution_count": 9,
   "metadata": {},
   "outputs": [],
   "source": [
    "# Necessary metadata\n",
    "url = \"https://api.figshare.com/v2/articles/14096681\"\n",
    "headers = {\"Content-Type\": \"application/json\"}\n",
    "output_directory = \"../data/\"\n",
    "response = requests.request(\"GET\", url, headers=headers)\n",
    "data = json.loads(response.text)\n",
    "files = data[\"files\"]"
   ]
  },
  {
   "cell_type": "code",
   "execution_count": 15,
   "metadata": {},
   "outputs": [
    {
     "name": "stdout",
     "output_type": "stream",
     "text": [
      "CPU times: total: 0 ns\n",
      "Wall time: 0 ns\n"
     ]
    }
   ],
   "source": [
    "%%time\n",
    "files_to_dl = \"data.zip\"\n",
    "if not os.path.isfile(output_directory + files_to_dl):\n",
    "    for file in files:\n",
    "        if file[\"name\"] == files_to_dl:\n",
    "            os.makedirs(output_directory, exist_ok=True)\n",
    "            urlretrieve(file[\"download_url\"], output_directory + file[\"name\"])"
   ]
  },
  {
   "cell_type": "code",
   "execution_count": 16,
   "metadata": {},
   "outputs": [
    {
     "name": "stdout",
     "output_type": "stream",
     "text": [
      "CPU times: total: 23 s\n",
      "Wall time: 26.5 s\n"
     ]
    }
   ],
   "source": [
    "%%time\n",
    "with zipfile.ZipFile(os.path.join(output_directory, files_to_dl), \"r\") as f:\n",
    "    f.extractall(output_directory)\n",
    "os.remove(\"../data/observed_daily_rainfall_SYD.csv\")"
   ]
  },
  {
   "cell_type": "code",
   "execution_count": 18,
   "metadata": {},
   "outputs": [
    {
     "name": "stdout",
     "output_type": "stream",
     "text": [
      "CPU times: total: 1min 10s\n",
      "Wall time: 1min 18s\n"
     ]
    }
   ],
   "source": [
    "%%time\n",
    "files = glob.glob(\"../data/*.csv\")\n",
    "columns = [\"time\", \"lat_min\", \"lat_max\", \"lon_min\", \"lon_max\", \"rain (mm/day)\"]\n",
    "df = pd.concat((pd.read_csv(file, index_col=0, usecols=columns)\n",
    "                .assign(model=re.findall(r\"[^\\/]+(?=\\_daily)\", file)[0])\n",
    "                for file in files)\n",
    "              )"
   ]
  },
  {
   "cell_type": "code",
   "execution_count": 19,
   "metadata": {},
   "outputs": [
    {
     "data": {
      "text/html": [
       "<div>\n",
       "<style scoped>\n",
       "    .dataframe tbody tr th:only-of-type {\n",
       "        vertical-align: middle;\n",
       "    }\n",
       "\n",
       "    .dataframe tbody tr th {\n",
       "        vertical-align: top;\n",
       "    }\n",
       "\n",
       "    .dataframe thead th {\n",
       "        text-align: right;\n",
       "    }\n",
       "</style>\n",
       "<table border=\"1\" class=\"dataframe\">\n",
       "  <thead>\n",
       "    <tr style=\"text-align: right;\">\n",
       "      <th></th>\n",
       "      <th>lat_min</th>\n",
       "      <th>lat_max</th>\n",
       "      <th>lon_min</th>\n",
       "      <th>lon_max</th>\n",
       "      <th>rain (mm/day)</th>\n",
       "      <th>model</th>\n",
       "    </tr>\n",
       "    <tr>\n",
       "      <th>time</th>\n",
       "      <th></th>\n",
       "      <th></th>\n",
       "      <th></th>\n",
       "      <th></th>\n",
       "      <th></th>\n",
       "      <th></th>\n",
       "    </tr>\n",
       "  </thead>\n",
       "  <tbody>\n",
       "    <tr>\n",
       "      <th>1889-01-01 12:00:00</th>\n",
       "      <td>-36.250000</td>\n",
       "      <td>-35.00000</td>\n",
       "      <td>140.625</td>\n",
       "      <td>142.500</td>\n",
       "      <td>3.293256e-13</td>\n",
       "      <td>data\\ACCESS-CM2</td>\n",
       "    </tr>\n",
       "    <tr>\n",
       "      <th>1889-01-02 12:00:00</th>\n",
       "      <td>-36.250000</td>\n",
       "      <td>-35.00000</td>\n",
       "      <td>140.625</td>\n",
       "      <td>142.500</td>\n",
       "      <td>0.000000e+00</td>\n",
       "      <td>data\\ACCESS-CM2</td>\n",
       "    </tr>\n",
       "    <tr>\n",
       "      <th>1889-01-03 12:00:00</th>\n",
       "      <td>-36.250000</td>\n",
       "      <td>-35.00000</td>\n",
       "      <td>140.625</td>\n",
       "      <td>142.500</td>\n",
       "      <td>0.000000e+00</td>\n",
       "      <td>data\\ACCESS-CM2</td>\n",
       "    </tr>\n",
       "    <tr>\n",
       "      <th>1889-01-04 12:00:00</th>\n",
       "      <td>-36.250000</td>\n",
       "      <td>-35.00000</td>\n",
       "      <td>140.625</td>\n",
       "      <td>142.500</td>\n",
       "      <td>0.000000e+00</td>\n",
       "      <td>data\\ACCESS-CM2</td>\n",
       "    </tr>\n",
       "    <tr>\n",
       "      <th>1889-01-05 12:00:00</th>\n",
       "      <td>-36.250000</td>\n",
       "      <td>-35.00000</td>\n",
       "      <td>140.625</td>\n",
       "      <td>142.500</td>\n",
       "      <td>1.047658e-02</td>\n",
       "      <td>data\\ACCESS-CM2</td>\n",
       "    </tr>\n",
       "    <tr>\n",
       "      <th>...</th>\n",
       "      <td>...</td>\n",
       "      <td>...</td>\n",
       "      <td>...</td>\n",
       "      <td>...</td>\n",
       "      <td>...</td>\n",
       "      <td>...</td>\n",
       "    </tr>\n",
       "    <tr>\n",
       "      <th>2014-12-27 12:00:00</th>\n",
       "      <td>-30.157068</td>\n",
       "      <td>-29.21466</td>\n",
       "      <td>153.125</td>\n",
       "      <td>154.375</td>\n",
       "      <td>5.543748e-01</td>\n",
       "      <td>data\\TaiESM1</td>\n",
       "    </tr>\n",
       "    <tr>\n",
       "      <th>2014-12-28 12:00:00</th>\n",
       "      <td>-30.157068</td>\n",
       "      <td>-29.21466</td>\n",
       "      <td>153.125</td>\n",
       "      <td>154.375</td>\n",
       "      <td>7.028577e+00</td>\n",
       "      <td>data\\TaiESM1</td>\n",
       "    </tr>\n",
       "    <tr>\n",
       "      <th>2014-12-29 12:00:00</th>\n",
       "      <td>-30.157068</td>\n",
       "      <td>-29.21466</td>\n",
       "      <td>153.125</td>\n",
       "      <td>154.375</td>\n",
       "      <td>2.347570e-01</td>\n",
       "      <td>data\\TaiESM1</td>\n",
       "    </tr>\n",
       "    <tr>\n",
       "      <th>2014-12-30 12:00:00</th>\n",
       "      <td>-30.157068</td>\n",
       "      <td>-29.21466</td>\n",
       "      <td>153.125</td>\n",
       "      <td>154.375</td>\n",
       "      <td>2.097459e+00</td>\n",
       "      <td>data\\TaiESM1</td>\n",
       "    </tr>\n",
       "    <tr>\n",
       "      <th>2014-12-31 12:00:00</th>\n",
       "      <td>-30.157068</td>\n",
       "      <td>-29.21466</td>\n",
       "      <td>153.125</td>\n",
       "      <td>154.375</td>\n",
       "      <td>5.484206e-01</td>\n",
       "      <td>data\\TaiESM1</td>\n",
       "    </tr>\n",
       "  </tbody>\n",
       "</table>\n",
       "<p>62467843 rows × 6 columns</p>\n",
       "</div>"
      ],
      "text/plain": [
       "                       lat_min   lat_max  lon_min  lon_max  rain (mm/day)  \\\n",
       "time                                                                        \n",
       "1889-01-01 12:00:00 -36.250000 -35.00000  140.625  142.500   3.293256e-13   \n",
       "1889-01-02 12:00:00 -36.250000 -35.00000  140.625  142.500   0.000000e+00   \n",
       "1889-01-03 12:00:00 -36.250000 -35.00000  140.625  142.500   0.000000e+00   \n",
       "1889-01-04 12:00:00 -36.250000 -35.00000  140.625  142.500   0.000000e+00   \n",
       "1889-01-05 12:00:00 -36.250000 -35.00000  140.625  142.500   1.047658e-02   \n",
       "...                        ...       ...      ...      ...            ...   \n",
       "2014-12-27 12:00:00 -30.157068 -29.21466  153.125  154.375   5.543748e-01   \n",
       "2014-12-28 12:00:00 -30.157068 -29.21466  153.125  154.375   7.028577e+00   \n",
       "2014-12-29 12:00:00 -30.157068 -29.21466  153.125  154.375   2.347570e-01   \n",
       "2014-12-30 12:00:00 -30.157068 -29.21466  153.125  154.375   2.097459e+00   \n",
       "2014-12-31 12:00:00 -30.157068 -29.21466  153.125  154.375   5.484206e-01   \n",
       "\n",
       "                               model  \n",
       "time                                  \n",
       "1889-01-01 12:00:00  data\\ACCESS-CM2  \n",
       "1889-01-02 12:00:00  data\\ACCESS-CM2  \n",
       "1889-01-03 12:00:00  data\\ACCESS-CM2  \n",
       "1889-01-04 12:00:00  data\\ACCESS-CM2  \n",
       "1889-01-05 12:00:00  data\\ACCESS-CM2  \n",
       "...                              ...  \n",
       "2014-12-27 12:00:00     data\\TaiESM1  \n",
       "2014-12-28 12:00:00     data\\TaiESM1  \n",
       "2014-12-29 12:00:00     data\\TaiESM1  \n",
       "2014-12-30 12:00:00     data\\TaiESM1  \n",
       "2014-12-31 12:00:00     data\\TaiESM1  \n",
       "\n",
       "[62467843 rows x 6 columns]"
      ]
     },
     "execution_count": 19,
     "metadata": {},
     "output_type": "execute_result"
    }
   ],
   "source": [
    "df"
   ]
  },
  {
   "cell_type": "markdown",
   "metadata": {},
   "source": [
    "## Runtimes of CSV compilation\n",
    "\n",
    "\n",
    "| Team Member | OS           | RAM | Processor        | Is SSD | Wall Time Taken |\n",
    "|-------------|--------------|-----|------------------|--------|-----------------|\n",
    "| Nikita      | Windows 10 | 16GB | 4th Gen Core i7  | Yes    | 1min 21s        |\n",
    "| Margot      | Windows 10   | 12GB | 10th Gen-Core i7 | Yes |    1min 9s     |\n",
    "| Thea Wenxin | MacOS Monterey|  16GB  |   Apple M1 chip |  Yes|  45.1s |\n",
    "| Kiran       | MacOS Big Sur |   8GB  |   Apple M1 chip | Yes |     1min 40s         |"
   ]
  },
  {
   "cell_type": "markdown",
   "metadata": {},
   "source": [
    "## EDA for Python"
   ]
  },
  {
   "cell_type": "markdown",
   "metadata": {},
   "source": [
    "### Combine Data into a Single CSV Using Python Pandas."
   ]
  },
  {
   "cell_type": "code",
   "execution_count": 20,
   "metadata": {},
   "outputs": [
    {
     "name": "stdout",
     "output_type": "stream",
     "text": [
      "CPU times: total: 7min 41s\n",
      "Wall time: 7min 48s\n"
     ]
    }
   ],
   "source": [
    "%%time\n",
    "df.to_csv(os.path.join(output_directory, \"combined_csv.csv\"))"
   ]
  },
  {
   "cell_type": "markdown",
   "metadata": {},
   "source": [
    "### Load Combined CSV File into Memory and Perform EDA"
   ]
  },
  {
   "cell_type": "code",
   "execution_count": 21,
   "metadata": {},
   "outputs": [
    {
     "name": "stdout",
     "output_type": "stream",
     "text": [
      "CPU times: total: 1min 20s\n",
      "Wall time: 1min 25s\n"
     ]
    }
   ],
   "source": [
    "%%time\n",
    "df_baseline = pd.read_csv(os.path.join(output_directory, \"combined_csv.csv\"), parse_dates=True)"
   ]
  },
  {
   "cell_type": "markdown",
   "metadata": {},
   "source": [
    "#### EDA"
   ]
  },
  {
   "cell_type": "markdown",
   "metadata": {},
   "source": [
    "#### Structure of the Data"
   ]
  },
  {
   "cell_type": "code",
   "execution_count": 22,
   "metadata": {},
   "outputs": [
    {
     "name": "stdout",
     "output_type": "stream",
     "text": [
      "<class 'pandas.core.frame.DataFrame'>\n",
      "RangeIndex: 62467843 entries, 0 to 62467842\n",
      "Data columns (total 7 columns):\n",
      " #   Column         Dtype  \n",
      "---  ------         -----  \n",
      " 0   time           object \n",
      " 1   lat_min        float64\n",
      " 2   lat_max        float64\n",
      " 3   lon_min        float64\n",
      " 4   lon_max        float64\n",
      " 5   rain (mm/day)  float64\n",
      " 6   model          object \n",
      "dtypes: float64(5), object(2)\n",
      "memory usage: 3.3+ GB\n"
     ]
    }
   ],
   "source": [
    "# check dtype and memory usage\n",
    "df_baseline.info()"
   ]
  },
  {
   "cell_type": "code",
   "execution_count": 10,
   "metadata": {},
   "outputs": [
    {
     "data": {
      "text/html": [
       "<div>\n",
       "<style scoped>\n",
       "    .dataframe tbody tr th:only-of-type {\n",
       "        vertical-align: middle;\n",
       "    }\n",
       "\n",
       "    .dataframe tbody tr th {\n",
       "        vertical-align: top;\n",
       "    }\n",
       "\n",
       "    .dataframe thead th {\n",
       "        text-align: right;\n",
       "    }\n",
       "</style>\n",
       "<table border=\"1\" class=\"dataframe\">\n",
       "  <thead>\n",
       "    <tr style=\"text-align: right;\">\n",
       "      <th></th>\n",
       "      <th>time</th>\n",
       "      <th>lat_min</th>\n",
       "      <th>lat_max</th>\n",
       "      <th>lon_min</th>\n",
       "      <th>lon_max</th>\n",
       "      <th>rain (mm/day)</th>\n",
       "      <th>model</th>\n",
       "    </tr>\n",
       "  </thead>\n",
       "  <tbody>\n",
       "    <tr>\n",
       "      <th>0</th>\n",
       "      <td>1889-01-01 12:00:00</td>\n",
       "      <td>-35.439867</td>\n",
       "      <td>-33.574619</td>\n",
       "      <td>141.5625</td>\n",
       "      <td>143.4375</td>\n",
       "      <td>4.244226e-13</td>\n",
       "      <td>MPI-ESM-1-2-HAM</td>\n",
       "    </tr>\n",
       "    <tr>\n",
       "      <th>1</th>\n",
       "      <td>1889-01-02 12:00:00</td>\n",
       "      <td>-35.439867</td>\n",
       "      <td>-33.574619</td>\n",
       "      <td>141.5625</td>\n",
       "      <td>143.4375</td>\n",
       "      <td>4.217326e-13</td>\n",
       "      <td>MPI-ESM-1-2-HAM</td>\n",
       "    </tr>\n",
       "    <tr>\n",
       "      <th>2</th>\n",
       "      <td>1889-01-03 12:00:00</td>\n",
       "      <td>-35.439867</td>\n",
       "      <td>-33.574619</td>\n",
       "      <td>141.5625</td>\n",
       "      <td>143.4375</td>\n",
       "      <td>4.498125e-13</td>\n",
       "      <td>MPI-ESM-1-2-HAM</td>\n",
       "    </tr>\n",
       "    <tr>\n",
       "      <th>3</th>\n",
       "      <td>1889-01-04 12:00:00</td>\n",
       "      <td>-35.439867</td>\n",
       "      <td>-33.574619</td>\n",
       "      <td>141.5625</td>\n",
       "      <td>143.4375</td>\n",
       "      <td>4.251282e-13</td>\n",
       "      <td>MPI-ESM-1-2-HAM</td>\n",
       "    </tr>\n",
       "    <tr>\n",
       "      <th>4</th>\n",
       "      <td>1889-01-05 12:00:00</td>\n",
       "      <td>-35.439867</td>\n",
       "      <td>-33.574619</td>\n",
       "      <td>141.5625</td>\n",
       "      <td>143.4375</td>\n",
       "      <td>4.270161e-13</td>\n",
       "      <td>MPI-ESM-1-2-HAM</td>\n",
       "    </tr>\n",
       "  </tbody>\n",
       "</table>\n",
       "</div>"
      ],
      "text/plain": [
       "                  time    lat_min    lat_max   lon_min   lon_max  \\\n",
       "0  1889-01-01 12:00:00 -35.439867 -33.574619  141.5625  143.4375   \n",
       "1  1889-01-02 12:00:00 -35.439867 -33.574619  141.5625  143.4375   \n",
       "2  1889-01-03 12:00:00 -35.439867 -33.574619  141.5625  143.4375   \n",
       "3  1889-01-04 12:00:00 -35.439867 -33.574619  141.5625  143.4375   \n",
       "4  1889-01-05 12:00:00 -35.439867 -33.574619  141.5625  143.4375   \n",
       "\n",
       "   rain (mm/day)            model  \n",
       "0   4.244226e-13  MPI-ESM-1-2-HAM  \n",
       "1   4.217326e-13  MPI-ESM-1-2-HAM  \n",
       "2   4.498125e-13  MPI-ESM-1-2-HAM  \n",
       "3   4.251282e-13  MPI-ESM-1-2-HAM  \n",
       "4   4.270161e-13  MPI-ESM-1-2-HAM  "
      ]
     },
     "execution_count": 10,
     "metadata": {},
     "output_type": "execute_result"
    }
   ],
   "source": [
    "df_baseline.head()"
   ]
  },
  {
   "cell_type": "markdown",
   "metadata": {},
   "source": [
    "#### Summary Statistics For Each Numeric Columns"
   ]
  },
  {
   "cell_type": "code",
   "execution_count": 11,
   "metadata": {},
   "outputs": [
    {
     "name": "stdout",
     "output_type": "stream",
     "text": [
      "CPU times: total: 17.1 s\n",
      "Wall time: 17.8 s\n"
     ]
    },
    {
     "data": {
      "text/html": [
       "<div>\n",
       "<style scoped>\n",
       "    .dataframe tbody tr th:only-of-type {\n",
       "        vertical-align: middle;\n",
       "    }\n",
       "\n",
       "    .dataframe tbody tr th {\n",
       "        vertical-align: top;\n",
       "    }\n",
       "\n",
       "    .dataframe thead th {\n",
       "        text-align: right;\n",
       "    }\n",
       "</style>\n",
       "<table border=\"1\" class=\"dataframe\">\n",
       "  <thead>\n",
       "    <tr style=\"text-align: right;\">\n",
       "      <th></th>\n",
       "      <th>lat_min</th>\n",
       "      <th>lat_max</th>\n",
       "      <th>lon_min</th>\n",
       "      <th>lon_max</th>\n",
       "      <th>rain (mm/day)</th>\n",
       "    </tr>\n",
       "  </thead>\n",
       "  <tbody>\n",
       "    <tr>\n",
       "      <th>count</th>\n",
       "      <td>5.924854e+07</td>\n",
       "      <td>6.246784e+07</td>\n",
       "      <td>5.924854e+07</td>\n",
       "      <td>6.246784e+07</td>\n",
       "      <td>5.924854e+07</td>\n",
       "    </tr>\n",
       "    <tr>\n",
       "      <th>mean</th>\n",
       "      <td>-3.310482e+01</td>\n",
       "      <td>-3.197757e+01</td>\n",
       "      <td>1.469059e+02</td>\n",
       "      <td>1.482150e+02</td>\n",
       "      <td>1.901170e+00</td>\n",
       "    </tr>\n",
       "    <tr>\n",
       "      <th>std</th>\n",
       "      <td>1.963549e+00</td>\n",
       "      <td>1.992067e+00</td>\n",
       "      <td>3.793784e+00</td>\n",
       "      <td>3.809994e+00</td>\n",
       "      <td>5.585735e+00</td>\n",
       "    </tr>\n",
       "    <tr>\n",
       "      <th>min</th>\n",
       "      <td>-3.646739e+01</td>\n",
       "      <td>-3.600000e+01</td>\n",
       "      <td>1.406250e+02</td>\n",
       "      <td>1.412500e+02</td>\n",
       "      <td>-3.807373e-12</td>\n",
       "    </tr>\n",
       "    <tr>\n",
       "      <th>25%</th>\n",
       "      <td>-3.486911e+01</td>\n",
       "      <td>-3.366221e+01</td>\n",
       "      <td>1.434375e+02</td>\n",
       "      <td>1.450000e+02</td>\n",
       "      <td>3.838413e-06</td>\n",
       "    </tr>\n",
       "    <tr>\n",
       "      <th>50%</th>\n",
       "      <td>-3.300000e+01</td>\n",
       "      <td>-3.204188e+01</td>\n",
       "      <td>1.468750e+02</td>\n",
       "      <td>1.481250e+02</td>\n",
       "      <td>6.154947e-02</td>\n",
       "    </tr>\n",
       "    <tr>\n",
       "      <th>75%</th>\n",
       "      <td>-3.140170e+01</td>\n",
       "      <td>-3.015707e+01</td>\n",
       "      <td>1.501875e+02</td>\n",
       "      <td>1.513125e+02</td>\n",
       "      <td>1.020918e+00</td>\n",
       "    </tr>\n",
       "    <tr>\n",
       "      <th>max</th>\n",
       "      <td>-2.990000e+01</td>\n",
       "      <td>-2.790606e+01</td>\n",
       "      <td>1.537500e+02</td>\n",
       "      <td>1.556250e+02</td>\n",
       "      <td>4.329395e+02</td>\n",
       "    </tr>\n",
       "  </tbody>\n",
       "</table>\n",
       "</div>"
      ],
      "text/plain": [
       "            lat_min       lat_max       lon_min       lon_max  rain (mm/day)\n",
       "count  5.924854e+07  6.246784e+07  5.924854e+07  6.246784e+07   5.924854e+07\n",
       "mean  -3.310482e+01 -3.197757e+01  1.469059e+02  1.482150e+02   1.901170e+00\n",
       "std    1.963549e+00  1.992067e+00  3.793784e+00  3.809994e+00   5.585735e+00\n",
       "min   -3.646739e+01 -3.600000e+01  1.406250e+02  1.412500e+02  -3.807373e-12\n",
       "25%   -3.486911e+01 -3.366221e+01  1.434375e+02  1.450000e+02   3.838413e-06\n",
       "50%   -3.300000e+01 -3.204188e+01  1.468750e+02  1.481250e+02   6.154947e-02\n",
       "75%   -3.140170e+01 -3.015707e+01  1.501875e+02  1.513125e+02   1.020918e+00\n",
       "max   -2.990000e+01 -2.790606e+01  1.537500e+02  1.556250e+02   4.329395e+02"
      ]
     },
     "execution_count": 11,
     "metadata": {},
     "output_type": "execute_result"
    }
   ],
   "source": [
    "%%time\n",
    "df_baseline.describe()"
   ]
  },
  {
   "cell_type": "markdown",
   "metadata": {},
   "source": [
    "#### Counts of a Numeric Column"
   ]
  },
  {
   "cell_type": "code",
   "execution_count": 12,
   "metadata": {},
   "outputs": [
    {
     "name": "stdout",
     "output_type": "stream",
     "text": [
      "CPU times: total: 875 ms\n",
      "Wall time: 923 ms\n"
     ]
    },
    {
     "data": {
      "text/plain": [
       "-34.869110    3035329\n",
       "-32.984293    3035329\n",
       "-32.041885    3035329\n",
       "-31.099476    3035329\n",
       "-30.000000    1747830\n",
       "               ...   \n",
       "-30.700015     183960\n",
       "-30.696652     183960\n",
       "-33.487232     183960\n",
       "-36.277805     183960\n",
       "-36.281964     183960\n",
       "Name: lat_min, Length: 84, dtype: int64"
      ]
     },
     "execution_count": 12,
     "metadata": {},
     "output_type": "execute_result"
    }
   ],
   "source": [
    "%%time\n",
    "df_baseline['lat_min'].value_counts()"
   ]
  },
  {
   "cell_type": "markdown",
   "metadata": {},
   "source": [
    "#### Histogram Showing the Counts of Minimum Latitude"
   ]
  },
  {
   "cell_type": "code",
   "execution_count": 13,
   "metadata": {},
   "outputs": [
    {
     "data": {
      "text/plain": [
       "(array([2070450., 6347269., 1610490.,  966420., 4691449., 2806470.,\n",
       "         644070., 4185079., 4509420.,  367920., 4921129.,  644280.,\n",
       "        2806530., 4921339., 1610700., 2484330., 3955129., 1748520.,\n",
       "        2070210., 5887339.]),\n",
       " array([-36.46738961, -36.13902013, -35.81065065, -35.48228117,\n",
       "        -35.15391169, -34.82554221, -34.49717273, -34.16880325,\n",
       "        -33.84043377, -33.51206429, -33.18369481, -32.85532533,\n",
       "        -32.52695584, -32.19858636, -31.87021688, -31.5418474 ,\n",
       "        -31.21347792, -30.88510844, -30.55673896, -30.22836948,\n",
       "        -29.9       ]),\n",
       " <BarContainer object of 20 artists>)"
      ]
     },
     "execution_count": 13,
     "metadata": {},
     "output_type": "execute_result"
    },
    {
     "data": {
      "image/png": "[encoded data removed]",
      "text/plain": [
       "<Figure size 700x500 with 1 Axes>"
      ]
     },
     "metadata": {
      "needs_background": "light"
     },
     "output_type": "display_data"
    }
   ],
   "source": [
    "plt.figure(figsize=(7, 5), dpi=100)\n",
    "plt.title('Counts of Recordings by Minimum Latitude')\n",
    "plt.xlabel('Count')\n",
    "plt.ylabel('Minimum Latitude')\n",
    "plt.hist(df_baseline['lat_min'], bins = 20, \n",
    "         stacked=True, orientation='horizontal', ec='black')"
   ]
  },
  {
   "cell_type": "markdown",
   "metadata": {},
   "source": [
    "#### Counts of Different Models"
   ]
  },
  {
   "cell_type": "code",
   "execution_count": 14,
   "metadata": {},
   "outputs": [
    {
     "name": "stdout",
     "output_type": "stream",
     "text": [
      "CPU times: total: 4.03 s\n",
      "Wall time: 4.43 s\n"
     ]
    },
    {
     "data": {
      "text/plain": [
       "data\\MPI-ESM1-2-HR       5154240\n",
       "data\\TaiESM1             3541230\n",
       "data\\NorESM2-MM          3541230\n",
       "data\\CMCC-CM2-HR4        3541230\n",
       "data\\CMCC-CM2-SR5        3541230\n",
       "data\\CMCC-ESM2           3541230\n",
       "data\\SAM0-UNICON         3541153\n",
       "data\\FGOALS-f3-L         3219300\n",
       "data\\GFDL-CM4            3219300\n",
       "data\\GFDL-ESM4           3219300\n",
       "data\\EC-Earth3-Veg-LR    3037320\n",
       "data\\MRI-ESM2-0          3037320\n",
       "data\\BCC-CSM2-MR         3035340\n",
       "data\\MIROC6              2070900\n",
       "data\\ACCESS-CM2          1932840\n",
       "data\\ACCESS-ESM1-5       1610700\n",
       "data\\INM-CM5-0           1609650\n",
       "data\\INM-CM4-8           1609650\n",
       "data\\KIOST-ESM           1287720\n",
       "data\\FGOALS-g3           1287720\n",
       "data\\MPI-ESM1-2-LR        966420\n",
       "data\\NESM3                966420\n",
       "data\\AWI-ESM-1-1-LR       966420\n",
       "data\\MPI-ESM-1-2-HAM      966420\n",
       "data\\NorESM2-LM           919800\n",
       "data\\BCC-ESM1             551880\n",
       "data\\CanESM5              551880\n",
       "Name: model, dtype: int64"
      ]
     },
     "execution_count": 14,
     "metadata": {},
     "output_type": "execute_result"
    }
   ],
   "source": [
    "%%time\n",
    "model_valuecount = df_baseline['model'].value_counts()\n",
    "model_valuecount"
   ]
  },
  {
   "cell_type": "markdown",
   "metadata": {},
   "source": [
    "#### Histogram Showing the Counts of Recordings by Model Type"
   ]
  },
  {
   "cell_type": "code",
   "execution_count": 15,
   "metadata": {},
   "outputs": [
    {
     "data": {
      "text/plain": [
       "(array([1932840., 1610700.,  966420., 3035340.,  551880.,  551880.,\n",
       "        3541230., 3541230., 3541230., 3037320., 3219300., 1287720.,\n",
       "        3219300., 3219300., 1609650., 1609650., 1287720., 2070900.,\n",
       "         966420., 5154240.,  966420., 3037320.,  966420.,  919800.,\n",
       "        3541230., 3541153., 3541230.]),\n",
       " array([ 0.        ,  0.96296296,  1.92592593,  2.88888889,  3.85185185,\n",
       "         4.81481481,  5.77777778,  6.74074074,  7.7037037 ,  8.66666667,\n",
       "         9.62962963, 10.59259259, 11.55555556, 12.51851852, 13.48148148,\n",
       "        14.44444444, 15.40740741, 16.37037037, 17.33333333, 18.2962963 ,\n",
       "        19.25925926, 20.22222222, 21.18518519, 22.14814815, 23.11111111,\n",
       "        24.07407407, 25.03703704, 26.        ]),\n",
       " <BarContainer object of 27 artists>)"
      ]
     },
     "execution_count": 15,
     "metadata": {},
     "output_type": "execute_result"
    },
    {
     "data": {
      "image/png": "[encoded data removed]",
      "text/plain": [
       "<Figure size 700x500 with 1 Axes>"
      ]
     },
     "metadata": {
      "needs_background": "light"
     },
     "output_type": "display_data"
    }
   ],
   "source": [
    "plt.figure(figsize=(7, 5), dpi=100)\n",
    "plt.title('Counts of Recordings by Model Type')\n",
    "plt.xlabel('Count')\n",
    "plt.ylabel('Models')\n",
    "plt.hist(df_baseline['model'], bins=len(model_valuecount), \n",
    "         stacked=True, orientation='horizontal', ec='black')"
   ]
  },
  {
   "cell_type": "markdown",
   "metadata": {},
   "source": [
    "#### Run times comparison for baseline data loading and EDA\n",
    "\n",
    "| Team Member | OS  | RAM | Processor        | Is SSD | Time (loading) |  Time (EDA numeric column)| Time (EDA categorical column)|\n",
    "|-------------|--------------|-----|------------------|--------|-----------------|------|------|\n",
    "| Nikita      | Windows 10 | 16GB | 4th Gen Core i7  | Yes    | 1min 55s     |1.06s      |5.23s       |\n",
    "| Margot      |   Windows 10   | 12GB | 10th Gen-Core i7 | Yes  |   1min 25s   | 923 ms  | 4.43 s  |\n",
    "| Thea Wenxin |   MacOS Monterey |  16GB   |   Apple M1 chip |  Yes    |   1 min 13s  | 850ms |4.23s|\n",
    "| Kiran       |    MacOS Big Sur          |   8GB  |     Apple M1 chip            |    Yes    |   1min 3s | 585ms  |  3.36s |"
   ]
  },
  {
   "cell_type": "markdown",
   "metadata": {},
   "source": [
    "## Investigating approaches to reduce memory usage."
   ]
  },
  {
   "cell_type": "markdown",
   "metadata": {},
   "source": [
    "### 1. Changing `dtype` of data"
   ]
  },
  {
   "cell_type": "markdown",
   "metadata": {},
   "source": [
    "#### Data Loading and Set `dtype`"
   ]
  },
  {
   "cell_type": "code",
   "execution_count": 23,
   "metadata": {},
   "outputs": [
    {
     "name": "stdout",
     "output_type": "stream",
     "text": [
      "CPU times: total: 2min 34s\n",
      "Wall time: 2min 41s\n"
     ]
    }
   ],
   "source": [
    "%%time\n",
    "dtype_columns = {\"lat_min\": 'float16',\n",
    "                 \"lat_max\": 'float16',\n",
    "                 \"lon_min\": 'float16', \n",
    "                 \"lon_max\": 'float16', \n",
    "                 \"rain (mm/day)\": 'float16',\n",
    "                 \"model\": 'str'\n",
    "                }\n",
    "df_dtype = pd.read_csv(os.path.join(output_directory, \"combined_csv.csv\"), index_col=0, \n",
    "                   parse_dates=True, dtype=dtype_columns)"
   ]
  },
  {
   "cell_type": "markdown",
   "metadata": {},
   "source": [
    "#### EDA"
   ]
  },
  {
   "cell_type": "markdown",
   "metadata": {},
   "source": [
    "### Structure of the Data"
   ]
  },
  {
   "cell_type": "code",
   "execution_count": 24,
   "metadata": {},
   "outputs": [
    {
     "name": "stdout",
     "output_type": "stream",
     "text": [
      "<class 'pandas.core.frame.DataFrame'>\n",
      "DatetimeIndex: 62467843 entries, 1889-01-01 12:00:00 to 2014-12-31 12:00:00\n",
      "Data columns (total 6 columns):\n",
      " #   Column         Dtype  \n",
      "---  ------         -----  \n",
      " 0   lat_min        float16\n",
      " 1   lat_max        float16\n",
      " 2   lon_min        float16\n",
      " 3   lon_max        float16\n",
      " 4   rain (mm/day)  float16\n",
      " 5   model          object \n",
      "dtypes: float16(5), object(1)\n",
      "memory usage: 1.5+ GB\n"
     ]
    }
   ],
   "source": [
    "# check dtype and memory usage\n",
    "df_dtype.info()"
   ]
  },
  {
   "cell_type": "code",
   "execution_count": 25,
   "metadata": {},
   "outputs": [
    {
     "data": {
      "text/html": [
       "<div>\n",
       "<style scoped>\n",
       "    .dataframe tbody tr th:only-of-type {\n",
       "        vertical-align: middle;\n",
       "    }\n",
       "\n",
       "    .dataframe tbody tr th {\n",
       "        vertical-align: top;\n",
       "    }\n",
       "\n",
       "    .dataframe thead th {\n",
       "        text-align: right;\n",
       "    }\n",
       "</style>\n",
       "<table border=\"1\" class=\"dataframe\">\n",
       "  <thead>\n",
       "    <tr style=\"text-align: right;\">\n",
       "      <th></th>\n",
       "      <th>lat_min</th>\n",
       "      <th>lat_max</th>\n",
       "      <th>lon_min</th>\n",
       "      <th>lon_max</th>\n",
       "      <th>rain (mm/day)</th>\n",
       "      <th>model</th>\n",
       "    </tr>\n",
       "    <tr>\n",
       "      <th>time</th>\n",
       "      <th></th>\n",
       "      <th></th>\n",
       "      <th></th>\n",
       "      <th></th>\n",
       "      <th></th>\n",
       "      <th></th>\n",
       "    </tr>\n",
       "  </thead>\n",
       "  <tbody>\n",
       "    <tr>\n",
       "      <th>1889-01-01 12:00:00</th>\n",
       "      <td>-36.25</td>\n",
       "      <td>-35.0</td>\n",
       "      <td>140.625</td>\n",
       "      <td>142.5</td>\n",
       "      <td>0.000000</td>\n",
       "      <td>data\\ACCESS-CM2</td>\n",
       "    </tr>\n",
       "    <tr>\n",
       "      <th>1889-01-02 12:00:00</th>\n",
       "      <td>-36.25</td>\n",
       "      <td>-35.0</td>\n",
       "      <td>140.625</td>\n",
       "      <td>142.5</td>\n",
       "      <td>0.000000</td>\n",
       "      <td>data\\ACCESS-CM2</td>\n",
       "    </tr>\n",
       "    <tr>\n",
       "      <th>1889-01-03 12:00:00</th>\n",
       "      <td>-36.25</td>\n",
       "      <td>-35.0</td>\n",
       "      <td>140.625</td>\n",
       "      <td>142.5</td>\n",
       "      <td>0.000000</td>\n",
       "      <td>data\\ACCESS-CM2</td>\n",
       "    </tr>\n",
       "    <tr>\n",
       "      <th>1889-01-04 12:00:00</th>\n",
       "      <td>-36.25</td>\n",
       "      <td>-35.0</td>\n",
       "      <td>140.625</td>\n",
       "      <td>142.5</td>\n",
       "      <td>0.000000</td>\n",
       "      <td>data\\ACCESS-CM2</td>\n",
       "    </tr>\n",
       "    <tr>\n",
       "      <th>1889-01-05 12:00:00</th>\n",
       "      <td>-36.25</td>\n",
       "      <td>-35.0</td>\n",
       "      <td>140.625</td>\n",
       "      <td>142.5</td>\n",
       "      <td>0.010475</td>\n",
       "      <td>data\\ACCESS-CM2</td>\n",
       "    </tr>\n",
       "  </tbody>\n",
       "</table>\n",
       "</div>"
      ],
      "text/plain": [
       "                     lat_min  lat_max  lon_min  lon_max  rain (mm/day)  \\\n",
       "time                                                                     \n",
       "1889-01-01 12:00:00   -36.25    -35.0  140.625    142.5       0.000000   \n",
       "1889-01-02 12:00:00   -36.25    -35.0  140.625    142.5       0.000000   \n",
       "1889-01-03 12:00:00   -36.25    -35.0  140.625    142.5       0.000000   \n",
       "1889-01-04 12:00:00   -36.25    -35.0  140.625    142.5       0.000000   \n",
       "1889-01-05 12:00:00   -36.25    -35.0  140.625    142.5       0.010475   \n",
       "\n",
       "                               model  \n",
       "time                                  \n",
       "1889-01-01 12:00:00  data\\ACCESS-CM2  \n",
       "1889-01-02 12:00:00  data\\ACCESS-CM2  \n",
       "1889-01-03 12:00:00  data\\ACCESS-CM2  \n",
       "1889-01-04 12:00:00  data\\ACCESS-CM2  \n",
       "1889-01-05 12:00:00  data\\ACCESS-CM2  "
      ]
     },
     "execution_count": 25,
     "metadata": {},
     "output_type": "execute_result"
    }
   ],
   "source": [
    "df_dtype.head()"
   ]
  },
  {
   "cell_type": "markdown",
   "metadata": {},
   "source": [
    "#### Counts of a Numeric Column"
   ]
  },
  {
   "cell_type": "code",
   "execution_count": 28,
   "metadata": {},
   "outputs": [
    {
     "name": "stdout",
     "output_type": "stream",
     "text": [
      "CPU times: total: 1.17 s\n",
      "Wall time: 1.24 s\n"
     ]
    },
    {
     "data": {
      "text/plain": [
       "-33.93750    3035329\n",
       "-30.15625    3035329\n",
       "-31.09375    3035329\n",
       "-32.03125    3035329\n",
       "-32.96875    3035329\n",
       "              ...   \n",
       "-30.37500     321930\n",
       "-32.40625     321930\n",
       "-34.43750     321930\n",
       "-34.09375     229950\n",
       "-30.31250     229950\n",
       "Name: lat_min, Length: 61, dtype: int64"
      ]
     },
     "execution_count": 28,
     "metadata": {},
     "output_type": "execute_result"
    }
   ],
   "source": [
    "%%time\n",
    "df_dtype['lat_min'].value_counts()"
   ]
  },
  {
   "cell_type": "markdown",
   "metadata": {},
   "source": [
    "#### Counts of Different Models"
   ]
  },
  {
   "cell_type": "code",
   "execution_count": 29,
   "metadata": {},
   "outputs": [
    {
     "name": "stdout",
     "output_type": "stream",
     "text": [
      "CPU times: total: 5.47 s\n",
      "Wall time: 5.96 s\n"
     ]
    },
    {
     "data": {
      "text/plain": [
       "data\\MPI-ESM1-2-HR       5154240\n",
       "data\\TaiESM1             3541230\n",
       "data\\NorESM2-MM          3541230\n",
       "data\\CMCC-CM2-HR4        3541230\n",
       "data\\CMCC-CM2-SR5        3541230\n",
       "data\\CMCC-ESM2           3541230\n",
       "data\\SAM0-UNICON         3541153\n",
       "data\\FGOALS-f3-L         3219300\n",
       "data\\GFDL-CM4            3219300\n",
       "data\\GFDL-ESM4           3219300\n",
       "data\\EC-Earth3-Veg-LR    3037320\n",
       "data\\MRI-ESM2-0          3037320\n",
       "data\\BCC-CSM2-MR         3035340\n",
       "data\\MIROC6              2070900\n",
       "data\\ACCESS-CM2          1932840\n",
       "data\\ACCESS-ESM1-5       1610700\n",
       "data\\INM-CM5-0           1609650\n",
       "data\\INM-CM4-8           1609650\n",
       "data\\KIOST-ESM           1287720\n",
       "data\\FGOALS-g3           1287720\n",
       "data\\MPI-ESM1-2-LR        966420\n",
       "data\\NESM3                966420\n",
       "data\\AWI-ESM-1-1-LR       966420\n",
       "data\\MPI-ESM-1-2-HAM      966420\n",
       "data\\NorESM2-LM           919800\n",
       "data\\BCC-ESM1             551880\n",
       "data\\CanESM5              551880\n",
       "Name: model, dtype: int64"
      ]
     },
     "execution_count": 29,
     "metadata": {},
     "output_type": "execute_result"
    }
   ],
   "source": [
    "%%time\n",
    "df_dtype['model'].value_counts()"
   ]
  },
  {
   "cell_type": "markdown",
   "metadata": {},
   "source": [
    "#### Run times comparison for data loading with changed dtype and EDA\n",
    "\n",
    "| Team Member | OS  | RAM | Processor        | Is SSD | Time (loading) |  Time (EDA numeric column)| Time (EDA categorical column)|\n",
    "|-------------|--------------|-----|------------------|--------|-----------------|------|------|\n",
    "| Nikita      | Windows 10 | 16GB | 4th Gen Core i7  | Yes    | 2min 19s     |1.14s      |5.45s       |\n",
    "| Margot      |   Windows 10   | 12GB | 10th Gen-Core i7 | Yes   |  2min 41s  | 1.24 s  | 5.96 s  |\n",
    "| Thea Wenxin |   MacOS Monterey |  16GB   |   Apple M1 chip |  Yes    |   1 min 1s  | 706ms |3.58s|\n",
    "| Kiran       |    MacOS Big Sur          |   8GB  |     Apple M1 chip            |    Yes    |     1min 7s       |  1.03s | 3.24s  |"
   ]
  },
  {
   "cell_type": "markdown",
   "metadata": {},
   "source": [
    "### 2. Load just columns we want"
   ]
  },
  {
   "cell_type": "markdown",
   "metadata": {},
   "source": [
    "#### Select Columns and Load Data"
   ]
  },
  {
   "cell_type": "code",
   "execution_count": 30,
   "metadata": {},
   "outputs": [
    {
     "name": "stdout",
     "output_type": "stream",
     "text": [
      "CPU times: total: 51.2 s\n",
      "Wall time: 55.2 s\n"
     ]
    }
   ],
   "source": [
    "%%time\n",
    "# Only select 1 numeric column and 1 string type column\n",
    "\n",
    "cols = [\"lat_min\", \"model\"]\n",
    "df_selected_cols = pd.read_csv(os.path.join(output_directory, \"combined_csv.csv\"), \n",
    "                   parse_dates=True, usecols=cols)"
   ]
  },
  {
   "cell_type": "markdown",
   "metadata": {},
   "source": [
    "#### EDA"
   ]
  },
  {
   "cell_type": "markdown",
   "metadata": {},
   "source": [
    "#### Structure of the Data"
   ]
  },
  {
   "cell_type": "code",
   "execution_count": 31,
   "metadata": {},
   "outputs": [
    {
     "name": "stdout",
     "output_type": "stream",
     "text": [
      "<class 'pandas.core.frame.DataFrame'>\n",
      "RangeIndex: 62467843 entries, 0 to 62467842\n",
      "Data columns (total 2 columns):\n",
      " #   Column   Dtype  \n",
      "---  ------   -----  \n",
      " 0   lat_min  float64\n",
      " 1   model    object \n",
      "dtypes: float64(1), object(1)\n",
      "memory usage: 953.2+ MB\n"
     ]
    }
   ],
   "source": [
    "# check dtype and memory usage\n",
    "df_selected_cols.info()"
   ]
  },
  {
   "cell_type": "code",
   "execution_count": 32,
   "metadata": {},
   "outputs": [
    {
     "data": {
      "text/html": [
       "<div>\n",
       "<style scoped>\n",
       "    .dataframe tbody tr th:only-of-type {\n",
       "        vertical-align: middle;\n",
       "    }\n",
       "\n",
       "    .dataframe tbody tr th {\n",
       "        vertical-align: top;\n",
       "    }\n",
       "\n",
       "    .dataframe thead th {\n",
       "        text-align: right;\n",
       "    }\n",
       "</style>\n",
       "<table border=\"1\" class=\"dataframe\">\n",
       "  <thead>\n",
       "    <tr style=\"text-align: right;\">\n",
       "      <th></th>\n",
       "      <th>lat_min</th>\n",
       "      <th>model</th>\n",
       "    </tr>\n",
       "  </thead>\n",
       "  <tbody>\n",
       "    <tr>\n",
       "      <th>0</th>\n",
       "      <td>-36.25</td>\n",
       "      <td>data\\ACCESS-CM2</td>\n",
       "    </tr>\n",
       "    <tr>\n",
       "      <th>1</th>\n",
       "      <td>-36.25</td>\n",
       "      <td>data\\ACCESS-CM2</td>\n",
       "    </tr>\n",
       "    <tr>\n",
       "      <th>2</th>\n",
       "      <td>-36.25</td>\n",
       "      <td>data\\ACCESS-CM2</td>\n",
       "    </tr>\n",
       "    <tr>\n",
       "      <th>3</th>\n",
       "      <td>-36.25</td>\n",
       "      <td>data\\ACCESS-CM2</td>\n",
       "    </tr>\n",
       "    <tr>\n",
       "      <th>4</th>\n",
       "      <td>-36.25</td>\n",
       "      <td>data\\ACCESS-CM2</td>\n",
       "    </tr>\n",
       "  </tbody>\n",
       "</table>\n",
       "</div>"
      ],
      "text/plain": [
       "   lat_min            model\n",
       "0   -36.25  data\\ACCESS-CM2\n",
       "1   -36.25  data\\ACCESS-CM2\n",
       "2   -36.25  data\\ACCESS-CM2\n",
       "3   -36.25  data\\ACCESS-CM2\n",
       "4   -36.25  data\\ACCESS-CM2"
      ]
     },
     "execution_count": 32,
     "metadata": {},
     "output_type": "execute_result"
    }
   ],
   "source": [
    "df_selected_cols.head()"
   ]
  },
  {
   "cell_type": "markdown",
   "metadata": {},
   "source": [
    "#### Counts of a Numeric Column"
   ]
  },
  {
   "cell_type": "code",
   "execution_count": 33,
   "metadata": {},
   "outputs": [
    {
     "name": "stdout",
     "output_type": "stream",
     "text": [
      "CPU times: total: 719 ms\n",
      "Wall time: 694 ms\n"
     ]
    },
    {
     "data": {
      "text/plain": [
       "-34.869110    3035329\n",
       "-32.984293    3035329\n",
       "-32.041885    3035329\n",
       "-31.099476    3035329\n",
       "-30.000000    1747830\n",
       "               ...   \n",
       "-30.700015     183960\n",
       "-30.696652     183960\n",
       "-33.487232     183960\n",
       "-36.277805     183960\n",
       "-36.281964     183960\n",
       "Name: lat_min, Length: 84, dtype: int64"
      ]
     },
     "execution_count": 33,
     "metadata": {},
     "output_type": "execute_result"
    }
   ],
   "source": [
    "%%time\n",
    "df_selected_cols['lat_min'].value_counts()"
   ]
  },
  {
   "cell_type": "markdown",
   "metadata": {},
   "source": [
    "#### Counts of Different Models"
   ]
  },
  {
   "cell_type": "code",
   "execution_count": 34,
   "metadata": {},
   "outputs": [
    {
     "name": "stdout",
     "output_type": "stream",
     "text": [
      "CPU times: total: 4 s\n",
      "Wall time: 4.19 s\n"
     ]
    },
    {
     "data": {
      "text/plain": [
       "data\\MPI-ESM1-2-HR       5154240\n",
       "data\\TaiESM1             3541230\n",
       "data\\NorESM2-MM          3541230\n",
       "data\\CMCC-CM2-HR4        3541230\n",
       "data\\CMCC-CM2-SR5        3541230\n",
       "data\\CMCC-ESM2           3541230\n",
       "data\\SAM0-UNICON         3541153\n",
       "data\\FGOALS-f3-L         3219300\n",
       "data\\GFDL-CM4            3219300\n",
       "data\\GFDL-ESM4           3219300\n",
       "data\\EC-Earth3-Veg-LR    3037320\n",
       "data\\MRI-ESM2-0          3037320\n",
       "data\\BCC-CSM2-MR         3035340\n",
       "data\\MIROC6              2070900\n",
       "data\\ACCESS-CM2          1932840\n",
       "data\\ACCESS-ESM1-5       1610700\n",
       "data\\INM-CM5-0           1609650\n",
       "data\\INM-CM4-8           1609650\n",
       "data\\KIOST-ESM           1287720\n",
       "data\\FGOALS-g3           1287720\n",
       "data\\MPI-ESM1-2-LR        966420\n",
       "data\\NESM3                966420\n",
       "data\\AWI-ESM-1-1-LR       966420\n",
       "data\\MPI-ESM-1-2-HAM      966420\n",
       "data\\NorESM2-LM           919800\n",
       "data\\BCC-ESM1             551880\n",
       "data\\CanESM5              551880\n",
       "Name: model, dtype: int64"
      ]
     },
     "execution_count": 34,
     "metadata": {},
     "output_type": "execute_result"
    }
   ],
   "source": [
    "%%time\n",
    "df_selected_cols['model'].value_counts()"
   ]
  },
  {
   "cell_type": "markdown",
   "metadata": {},
   "source": [
    "#### Run times comparison for data loading with only selected columns and EDA\n",
    "\n",
    "| Team Member | OS  | RAM | Processor        | Is SSD | Time (loading) |  Time (EDA numeric column)| Time (EDA categorical column)|\n",
    "|-------------|--------------|-----|------------------|--------|-----------------|------|------|\n",
    "| Nikita      | Windows 10 | 16GB | 4th Gen Core i7  | Yes    | 51s     |808ms      |4.65s       |\n",
    "| Margot      |   Windows 10   | 12GB | 10th Gen-Core i7 | Yes   |  55.2s   | 694ms  |4.19s  |\n",
    "| Thea Wenxin |   MacOS Monterey |  16GB   |   Apple M1 chip |  Yes    |   26.4s  | 640ms |3.16s|\n",
    "| Kiran       |    MacOS Big Sur          |   8GB  |     Apple M1 chip            |    Yes    |      30.3s      |  572ms |  3.5s |"
   ]
  },
  {
   "cell_type": "markdown",
   "metadata": {},
   "source": [
    "### 3. Load in chunks"
   ]
  },
  {
   "cell_type": "markdown",
   "metadata": {},
   "source": [
    "#### EDA"
   ]
  },
  {
   "cell_type": "markdown",
   "metadata": {},
   "source": [
    "#### Counts of a Numeric Column"
   ]
  },
  {
   "cell_type": "code",
   "execution_count": 35,
   "metadata": {},
   "outputs": [
    {
     "name": "stdout",
     "output_type": "stream",
     "text": [
      "data\\ACCESS-CM2          1932840\n",
      "data\\ACCESS-ESM1-5       1610700\n",
      "data\\AWI-ESM-1-1-LR       966420\n",
      "data\\BCC-CSM2-MR         3035340\n",
      "data\\BCC-ESM1             551880\n",
      "data\\CMCC-CM2-HR4        3541230\n",
      "data\\CMCC-CM2-SR5        3541230\n",
      "data\\CMCC-ESM2           3541230\n",
      "data\\CanESM5              551880\n",
      "data\\EC-Earth3-Veg-LR    3037320\n",
      "data\\FGOALS-f3-L         3219300\n",
      "data\\FGOALS-g3           1287720\n",
      "data\\GFDL-CM4            3219300\n",
      "data\\GFDL-ESM4           3219300\n",
      "data\\INM-CM4-8           1609650\n",
      "data\\INM-CM5-0           1609650\n",
      "data\\KIOST-ESM           1287720\n",
      "data\\MIROC6              2070900\n",
      "data\\MPI-ESM-1-2-HAM      966420\n",
      "data\\MPI-ESM1-2-HR       5154240\n",
      "data\\MPI-ESM1-2-LR        966420\n",
      "data\\MRI-ESM2-0          3037320\n",
      "data\\NESM3                966420\n",
      "data\\NorESM2-LM           919800\n",
      "data\\NorESM2-MM          3541230\n",
      "data\\SAM0-UNICON         3541153\n",
      "data\\TaiESM1             3541230\n",
      "dtype: int32\n",
      "CPU times: total: 2min 16s\n",
      "Wall time: 2min 21s\n"
     ]
    }
   ],
   "source": [
    "%%time\n",
    "\n",
    "counts = pd.Series(dtype=int)\n",
    "for chunk in pd.read_csv(os.path.join(output_directory, \"combined_csv.csv\"), chunksize=100_000):\n",
    "    counts = counts.add(chunk[\"model\"].value_counts(), fill_value=0)\n",
    "print(counts.astype(int))"
   ]
  },
  {
   "cell_type": "markdown",
   "metadata": {},
   "source": [
    "#### Counts of Different Models"
   ]
  },
  {
   "cell_type": "code",
   "execution_count": 36,
   "metadata": {},
   "outputs": [
    {
     "name": "stdout",
     "output_type": "stream",
     "text": [
      "-36.467390     644280\n",
      "-36.455696     321930\n",
      "-36.420966     414180\n",
      "-36.281964     183960\n",
      "-36.277805     183960\n",
      "               ...   \n",
      "-30.157068    1011769\n",
      "-30.157068    1517670\n",
      "-30.000000    1747830\n",
      "-29.921967     644280\n",
      "-29.900000     459900\n",
      "Length: 84, dtype: int32\n",
      "CPU times: total: 1min 57s\n",
      "Wall time: 2min 1s\n"
     ]
    }
   ],
   "source": [
    "%%time\n",
    "\n",
    "counts = pd.Series(dtype=int)\n",
    "for chunk in pd.read_csv(os.path.join(output_directory, \"combined_csv.csv\"), chunksize=100_000):\n",
    "    counts = counts.add(chunk[\"lat_min\"].value_counts(), fill_value=0)\n",
    "print(counts.astype(int))"
   ]
  },
  {
   "cell_type": "markdown",
   "metadata": {
    "jp-MarkdownHeadingCollapsed": true,
    "tags": []
   },
   "source": [
    "#### Run times comparison for data loading in chunks and EDA\n",
    "\n",
    "| Team Member | OS  | RAM | Processor        | Is SSD |Time (loading & EDA numeric column)| Time (loading & EDA categorical column)|\n",
    "|-------------|--------------|-----|------------------|--------|-----------------|------|\n",
    "| Nikita      | Windows 10 | 16GB | 4th Gen Core i7  | Yes    | 1m 57s     | 1min 53s     |\n",
    "| Margot      |    Windows 10   | 12GB | 10th Gen-Core i7 | Yes     |  2min 21s               | 2min 1s  |\n",
    "| Thea Wenxin |   MacOS Monterey |  16GB   |   Apple M1 chip |  Yes    |  50.8s | 49.3s |\n",
    "| Kiran       |    MacOS Big Sur          |   8GB  |     Apple M1 chip            |    Yes    |     55s       |  53.2 |"
   ]
  },
  {
   "cell_type": "markdown",
   "metadata": {},
   "source": [
    "### 4. Dask"
   ]
  },
  {
   "cell_type": "markdown",
   "metadata": {},
   "source": [
    "#### Loading the Data as Dask Data Frame"
   ]
  },
  {
   "cell_type": "code",
   "execution_count": 48,
   "metadata": {},
   "outputs": [
    {
     "name": "stdout",
     "output_type": "stream",
     "text": [
      "CPU times: total: 15.6 ms\n",
      "Wall time: 17.7 ms\n"
     ]
    }
   ],
   "source": [
    "%%time\n",
    "df_dask = dd.read_csv(os.path.join(output_directory, \"combined_csv.csv\"))"
   ]
  },
  {
   "cell_type": "markdown",
   "metadata": {},
   "source": [
    "### EDA"
   ]
  },
  {
   "cell_type": "markdown",
   "metadata": {},
   "source": [
    "#### Structure of the Data"
   ]
  },
  {
   "cell_type": "code",
   "execution_count": 38,
   "metadata": {},
   "outputs": [
    {
     "name": "stdout",
     "output_type": "stream",
     "text": [
      "<class 'dask.dataframe.core.DataFrame'>\n",
      "Columns: 7 entries, time to model\n",
      "dtypes: object(2), float64(5)"
     ]
    }
   ],
   "source": [
    "# check dtype\n",
    "df_dask.info()"
   ]
  },
  {
   "cell_type": "code",
   "execution_count": 39,
   "metadata": {},
   "outputs": [
    {
     "data": {
      "text/plain": [
       "Index                 12672\n",
       "lat_max           499742744\n",
       "lat_min           499742744\n",
       "lon_max           499742744\n",
       "lon_min           499742744\n",
       "model            4526268529\n",
       "rain (mm/day)     499742744\n",
       "time             4735966588\n",
       "dtype: int64"
      ]
     },
     "execution_count": 39,
     "metadata": {},
     "output_type": "execute_result"
    }
   ],
   "source": [
    "# memory usage by column (unit: bytes)\n",
    "mem_col = df_dask.memory_usage(deep=True).compute()\n",
    "mem_col"
   ]
  },
  {
   "cell_type": "code",
   "execution_count": 40,
   "metadata": {},
   "outputs": [
    {
     "data": {
      "text/plain": [
       "Index            0.00\n",
       "lat_max          0.50\n",
       "lat_min          0.50\n",
       "lon_max          0.50\n",
       "lon_min          0.50\n",
       "model            4.53\n",
       "rain (mm/day)    0.50\n",
       "time             4.74\n",
       "dtype: float64"
      ]
     },
     "execution_count": 40,
     "metadata": {},
     "output_type": "execute_result"
    }
   ],
   "source": [
    "# memory usage by column (unit: GB)\n",
    "round(mem_col/10**9, 2)"
   ]
  },
  {
   "cell_type": "code",
   "execution_count": 41,
   "metadata": {},
   "outputs": [
    {
     "data": {
      "text/plain": [
       "0     146217128\n",
       "1     146873812\n",
       "2     140466123\n",
       "3     135300899\n",
       "4     127924586\n",
       "        ...    \n",
       "94    110444943\n",
       "95    110979593\n",
       "96    111742718\n",
       "97    111165333\n",
       "98    111045083\n",
       "Length: 99, dtype: int64"
      ]
     },
     "execution_count": 41,
     "metadata": {},
     "output_type": "execute_result"
    }
   ],
   "source": [
    "# memory usage by partition\n",
    "mem_par = df_dask.memory_usage_per_partition(deep=True).compute()\n",
    "mem_par"
   ]
  },
  {
   "cell_type": "code",
   "execution_count": 42,
   "metadata": {},
   "outputs": [
    {
     "name": "stdout",
     "output_type": "stream",
     "text": [
      "Total memory usage 11.8GB\n"
     ]
    }
   ],
   "source": [
    "print(f\"Total memory usage {round(mem_par.sum()/10**9, 1)}GB\")"
   ]
  },
  {
   "cell_type": "code",
   "execution_count": 43,
   "metadata": {},
   "outputs": [
    {
     "data": {
      "text/html": [
       "<div>\n",
       "<style scoped>\n",
       "    .dataframe tbody tr th:only-of-type {\n",
       "        vertical-align: middle;\n",
       "    }\n",
       "\n",
       "    .dataframe tbody tr th {\n",
       "        vertical-align: top;\n",
       "    }\n",
       "\n",
       "    .dataframe thead th {\n",
       "        text-align: right;\n",
       "    }\n",
       "</style>\n",
       "<table border=\"1\" class=\"dataframe\">\n",
       "  <thead>\n",
       "    <tr style=\"text-align: right;\">\n",
       "      <th></th>\n",
       "      <th>time</th>\n",
       "      <th>lat_min</th>\n",
       "      <th>lat_max</th>\n",
       "      <th>lon_min</th>\n",
       "      <th>lon_max</th>\n",
       "      <th>rain (mm/day)</th>\n",
       "      <th>model</th>\n",
       "    </tr>\n",
       "  </thead>\n",
       "  <tbody>\n",
       "    <tr>\n",
       "      <th>0</th>\n",
       "      <td>1889-01-01 12:00:00</td>\n",
       "      <td>-36.25</td>\n",
       "      <td>-35.0</td>\n",
       "      <td>140.625</td>\n",
       "      <td>142.5</td>\n",
       "      <td>3.293256e-13</td>\n",
       "      <td>data\\ACCESS-CM2</td>\n",
       "    </tr>\n",
       "    <tr>\n",
       "      <th>1</th>\n",
       "      <td>1889-01-02 12:00:00</td>\n",
       "      <td>-36.25</td>\n",
       "      <td>-35.0</td>\n",
       "      <td>140.625</td>\n",
       "      <td>142.5</td>\n",
       "      <td>0.000000e+00</td>\n",
       "      <td>data\\ACCESS-CM2</td>\n",
       "    </tr>\n",
       "    <tr>\n",
       "      <th>2</th>\n",
       "      <td>1889-01-03 12:00:00</td>\n",
       "      <td>-36.25</td>\n",
       "      <td>-35.0</td>\n",
       "      <td>140.625</td>\n",
       "      <td>142.5</td>\n",
       "      <td>0.000000e+00</td>\n",
       "      <td>data\\ACCESS-CM2</td>\n",
       "    </tr>\n",
       "    <tr>\n",
       "      <th>3</th>\n",
       "      <td>1889-01-04 12:00:00</td>\n",
       "      <td>-36.25</td>\n",
       "      <td>-35.0</td>\n",
       "      <td>140.625</td>\n",
       "      <td>142.5</td>\n",
       "      <td>0.000000e+00</td>\n",
       "      <td>data\\ACCESS-CM2</td>\n",
       "    </tr>\n",
       "    <tr>\n",
       "      <th>4</th>\n",
       "      <td>1889-01-05 12:00:00</td>\n",
       "      <td>-36.25</td>\n",
       "      <td>-35.0</td>\n",
       "      <td>140.625</td>\n",
       "      <td>142.5</td>\n",
       "      <td>1.047658e-02</td>\n",
       "      <td>data\\ACCESS-CM2</td>\n",
       "    </tr>\n",
       "  </tbody>\n",
       "</table>\n",
       "</div>"
      ],
      "text/plain": [
       "                  time  lat_min  lat_max  lon_min  lon_max  rain (mm/day)  \\\n",
       "0  1889-01-01 12:00:00   -36.25    -35.0  140.625    142.5   3.293256e-13   \n",
       "1  1889-01-02 12:00:00   -36.25    -35.0  140.625    142.5   0.000000e+00   \n",
       "2  1889-01-03 12:00:00   -36.25    -35.0  140.625    142.5   0.000000e+00   \n",
       "3  1889-01-04 12:00:00   -36.25    -35.0  140.625    142.5   0.000000e+00   \n",
       "4  1889-01-05 12:00:00   -36.25    -35.0  140.625    142.5   1.047658e-02   \n",
       "\n",
       "             model  \n",
       "0  data\\ACCESS-CM2  \n",
       "1  data\\ACCESS-CM2  \n",
       "2  data\\ACCESS-CM2  \n",
       "3  data\\ACCESS-CM2  \n",
       "4  data\\ACCESS-CM2  "
      ]
     },
     "execution_count": 43,
     "metadata": {},
     "output_type": "execute_result"
    }
   ],
   "source": [
    "df_dask.head()"
   ]
  },
  {
   "cell_type": "markdown",
   "metadata": {},
   "source": [
    "#### Counts of a Numeric Column"
   ]
  },
  {
   "cell_type": "code",
   "execution_count": 44,
   "metadata": {},
   "outputs": [
    {
     "name": "stdout",
     "output_type": "stream",
     "text": [
      "CPU times: total: 2min 14s\n",
      "Wall time: 37.4 s\n"
     ]
    },
    {
     "data": {
      "text/plain": [
       "-31.099476    3035329\n",
       "-32.984293    3035329\n",
       "-34.869110    3035329\n",
       "-32.041885    3035329\n",
       "-30.000000    1747830\n",
       "               ...   \n",
       "-30.696652     183960\n",
       "-36.277805     183960\n",
       "-36.281964     183960\n",
       "-30.700015     183960\n",
       "-33.487232     183960\n",
       "Name: lat_min, Length: 84, dtype: int64"
      ]
     },
     "execution_count": 44,
     "metadata": {},
     "output_type": "execute_result"
    }
   ],
   "source": [
    "%%time\n",
    "df_dask['lat_min'].value_counts().compute()"
   ]
  },
  {
   "cell_type": "markdown",
   "metadata": {},
   "source": [
    "#### Counts of Different Models"
   ]
  },
  {
   "cell_type": "code",
   "execution_count": 45,
   "metadata": {},
   "outputs": [
    {
     "name": "stdout",
     "output_type": "stream",
     "text": [
      "CPU times: total: 1min 50s\n",
      "Wall time: 41.6 s\n"
     ]
    },
    {
     "data": {
      "text/plain": [
       "data\\MPI-ESM1-2-HR       5154240\n",
       "data\\TaiESM1             3541230\n",
       "data\\NorESM2-MM          3541230\n",
       "data\\CMCC-CM2-HR4        3541230\n",
       "data\\CMCC-CM2-SR5        3541230\n",
       "data\\CMCC-ESM2           3541230\n",
       "data\\SAM0-UNICON         3541153\n",
       "data\\FGOALS-f3-L         3219300\n",
       "data\\GFDL-CM4            3219300\n",
       "data\\GFDL-ESM4           3219300\n",
       "data\\EC-Earth3-Veg-LR    3037320\n",
       "data\\MRI-ESM2-0          3037320\n",
       "data\\BCC-CSM2-MR         3035340\n",
       "data\\MIROC6              2070900\n",
       "data\\ACCESS-CM2          1932840\n",
       "data\\ACCESS-ESM1-5       1610700\n",
       "data\\INM-CM5-0           1609650\n",
       "data\\INM-CM4-8           1609650\n",
       "data\\KIOST-ESM           1287720\n",
       "data\\FGOALS-g3           1287720\n",
       "data\\MPI-ESM1-2-LR        966420\n",
       "data\\NESM3                966420\n",
       "data\\AWI-ESM-1-1-LR       966420\n",
       "data\\MPI-ESM-1-2-HAM      966420\n",
       "data\\NorESM2-LM           919800\n",
       "data\\BCC-ESM1             551880\n",
       "data\\CanESM5              551880\n",
       "Name: model, dtype: int64"
      ]
     },
     "execution_count": 45,
     "metadata": {},
     "output_type": "execute_result"
    }
   ],
   "source": [
    "%%time\n",
    "df_dask['model'].value_counts().compute()"
   ]
  },
  {
   "cell_type": "markdown",
   "metadata": {},
   "source": [
    "#### Run times comparison for data loading with Dask and EDA\n",
    "\n",
    "| Team Member | OS  | RAM | Processor        | Is SSD | Time (loading) |  Time (EDA numeric column)| Time (EDA categorical column)|\n",
    "|-------------|--------------|-----|------------------|--------|-----------------|------|------|\n",
    "| Nikita      | Ubuntu 20.04 | 8GB | 8th Gen Core i7  | Yes    | 20.5ms     | 21s     |28s       |\n",
    "| Margot      |   Windows 10   | 12GB | 10th Gen-Core i7 | Yes    |  192 ms               | 37.4 s  | 41.6 s  |\n",
    "| Thea Wenxin |   MacOS Monterey |  16GB   |   Apple M1 chip |  Yes    |   27.3ms  | 7.87s |12.3s|\n",
    "| Kiran       |    MacOS Big Sur          |   8GB  |     Apple M1 chip            |    Yes    |    66.4ms        | 10.1s  |  15.4s |"
   ]
  },
  {
   "cell_type": "markdown",
   "metadata": {},
   "source": [
    "### Summary of Different Methods to Reduce Memory Usage and Run Times"
   ]
  },
  {
   "cell_type": "markdown",
   "metadata": {},
   "source": [
    "- The memory usage with baseline method (load the whole combined CSV file with `pandas.read_csv` ) is 3.3+ GB. The memory loading time is the highest among all methods. \n",
    "- Changing the data type of numeric columns to `dtype` with smaller memory usage can reduce half of the memory in this case. However the run time for loading and EDA on numeric and categorical columns only slightly decreased. But, we will compromise the precision on data.\n",
    "- Load only selected columns could largely decrease the memory usage and loading time, however only slightly decrease the run time for those selected columns.\n",
    "- Loading and processing data in chunks can decrease the overall run time compare with the baseline. It could be considered as an alternative to the baseline method.\n",
    "- The highest memory usage among all four methods is 11.4 GB with Dask Dataframe. However, the the loading time is at the lower side compared with baseline. The reason is that it c"
   ]
  },
  {
   "cell_type": "markdown",
   "metadata": {},
   "source": [
    "## EDA for R"
   ]
  },
  {
   "cell_type": "code",
   "execution_count": 49,
   "metadata": {},
   "outputs": [
    {
     "name": "stderr",
     "output_type": "stream",
     "text": [
      "R[write to console]: Error: package or namespace load failed for 'tools' in inDL(x, as.logical(local), as.logical(now), ...):\n",
      " unable to load shared object 'C:/Program Files/R/R-4.1.1/library/tools/libs/x64/tools.dll':\n",
      "  LoadLibrary failure:  The specified procedure could not be found.\n",
      "\n",
      "\n",
      "R[write to console]: Error in inDL(x, as.logical(local), as.logical(now), ...) : \n",
      "  unable to load shared object 'C:/Program Files/R/R-4.1.1/library/tools/libs/x64/tools.dll':\n",
      "  LoadLibrary failure:  The specified procedure could not be found.\n",
      "\n",
      "R[write to console]: In addition: \n",
      "R[write to console]: Warning message:\n",
      "\n",
      "R[write to console]: package 'tools' was built under R version 4.1.1 \n",
      "\n"
     ]
    },
    {
     "ename": "RRuntimeError",
     "evalue": "Error in inDL(x, as.logical(local), as.logical(now), ...) : \n  unable to load shared object 'C:/Program Files/R/R-4.1.1/library/tools/libs/x64/tools.dll':\n  LoadLibrary failure:  The specified procedure could not be found.\n",
     "output_type": "error",
     "traceback": [
      "\u001b[1;31m---------------------------------------------------------------------------\u001b[0m",
      "\u001b[1;31mRRuntimeError\u001b[0m                             Traceback (most recent call last)",
      "Input \u001b[1;32mIn [49]\u001b[0m, in \u001b[0;36m<cell line: 1>\u001b[1;34m()\u001b[0m\n\u001b[1;32m----> 1\u001b[0m \u001b[43mget_ipython\u001b[49m\u001b[43m(\u001b[49m\u001b[43m)\u001b[49m\u001b[38;5;241;43m.\u001b[39;49m\u001b[43mrun_line_magic\u001b[49m\u001b[43m(\u001b[49m\u001b[38;5;124;43m'\u001b[39;49m\u001b[38;5;124;43mload_ext\u001b[39;49m\u001b[38;5;124;43m'\u001b[39;49m\u001b[43m,\u001b[49m\u001b[43m \u001b[49m\u001b[38;5;124;43m'\u001b[39;49m\u001b[38;5;124;43mrpy2.ipython\u001b[39;49m\u001b[38;5;124;43m'\u001b[39;49m\u001b[43m)\u001b[49m\n",
      "File \u001b[1;32m~\\miniconda3\\envs\\525\\lib\\site-packages\\IPython\\core\\interactiveshell.py:2294\u001b[0m, in \u001b[0;36mInteractiveShell.run_line_magic\u001b[1;34m(self, magic_name, line, _stack_depth)\u001b[0m\n\u001b[0;32m   2292\u001b[0m     kwargs[\u001b[38;5;124m'\u001b[39m\u001b[38;5;124mlocal_ns\u001b[39m\u001b[38;5;124m'\u001b[39m] \u001b[38;5;241m=\u001b[39m \u001b[38;5;28mself\u001b[39m\u001b[38;5;241m.\u001b[39mget_local_scope(stack_depth)\n\u001b[0;32m   2293\u001b[0m \u001b[38;5;28;01mwith\u001b[39;00m \u001b[38;5;28mself\u001b[39m\u001b[38;5;241m.\u001b[39mbuiltin_trap:\n\u001b[1;32m-> 2294\u001b[0m     result \u001b[38;5;241m=\u001b[39m \u001b[43mfn\u001b[49m\u001b[43m(\u001b[49m\u001b[38;5;241;43m*\u001b[39;49m\u001b[43margs\u001b[49m\u001b[43m,\u001b[49m\u001b[43m \u001b[49m\u001b[38;5;241;43m*\u001b[39;49m\u001b[38;5;241;43m*\u001b[39;49m\u001b[43mkwargs\u001b[49m\u001b[43m)\u001b[49m\n\u001b[0;32m   2295\u001b[0m \u001b[38;5;28;01mreturn\u001b[39;00m result\n",
      "File \u001b[1;32m~\\miniconda3\\envs\\525\\lib\\site-packages\\IPython\\core\\magics\\extension.py:33\u001b[0m, in \u001b[0;36mExtensionMagics.load_ext\u001b[1;34m(self, module_str)\u001b[0m\n\u001b[0;32m     31\u001b[0m \u001b[38;5;28;01mif\u001b[39;00m \u001b[38;5;129;01mnot\u001b[39;00m module_str:\n\u001b[0;32m     32\u001b[0m     \u001b[38;5;28;01mraise\u001b[39;00m UsageError(\u001b[38;5;124m'\u001b[39m\u001b[38;5;124mMissing module name.\u001b[39m\u001b[38;5;124m'\u001b[39m)\n\u001b[1;32m---> 33\u001b[0m res \u001b[38;5;241m=\u001b[39m \u001b[38;5;28;43mself\u001b[39;49m\u001b[38;5;241;43m.\u001b[39;49m\u001b[43mshell\u001b[49m\u001b[38;5;241;43m.\u001b[39;49m\u001b[43mextension_manager\u001b[49m\u001b[38;5;241;43m.\u001b[39;49m\u001b[43mload_extension\u001b[49m\u001b[43m(\u001b[49m\u001b[43mmodule_str\u001b[49m\u001b[43m)\u001b[49m\n\u001b[0;32m     35\u001b[0m \u001b[38;5;28;01mif\u001b[39;00m res \u001b[38;5;241m==\u001b[39m \u001b[38;5;124m'\u001b[39m\u001b[38;5;124malready loaded\u001b[39m\u001b[38;5;124m'\u001b[39m:\n\u001b[0;32m     36\u001b[0m     \u001b[38;5;28mprint\u001b[39m(\u001b[38;5;124m\"\u001b[39m\u001b[38;5;124mThe \u001b[39m\u001b[38;5;132;01m%s\u001b[39;00m\u001b[38;5;124m extension is already loaded. To reload it, use:\u001b[39m\u001b[38;5;124m\"\u001b[39m \u001b[38;5;241m%\u001b[39m module_str)\n",
      "File \u001b[1;32m~\\miniconda3\\envs\\525\\lib\\site-packages\\IPython\\core\\extensions.py:76\u001b[0m, in \u001b[0;36mExtensionManager.load_extension\u001b[1;34m(self, module_str)\u001b[0m\n\u001b[0;32m     69\u001b[0m \u001b[38;5;124;03m\"\"\"Load an IPython extension by its module name.\u001b[39;00m\n\u001b[0;32m     70\u001b[0m \n\u001b[0;32m     71\u001b[0m \u001b[38;5;124;03mReturns the string \"already loaded\" if the extension is already loaded,\u001b[39;00m\n\u001b[0;32m     72\u001b[0m \u001b[38;5;124;03m\"no load function\" if the module doesn't have a load_ipython_extension\u001b[39;00m\n\u001b[0;32m     73\u001b[0m \u001b[38;5;124;03mfunction, or None if it succeeded.\u001b[39;00m\n\u001b[0;32m     74\u001b[0m \u001b[38;5;124;03m\"\"\"\u001b[39;00m\n\u001b[0;32m     75\u001b[0m \u001b[38;5;28;01mtry\u001b[39;00m:\n\u001b[1;32m---> 76\u001b[0m     \u001b[38;5;28;01mreturn\u001b[39;00m \u001b[38;5;28;43mself\u001b[39;49m\u001b[38;5;241;43m.\u001b[39;49m\u001b[43m_load_extension\u001b[49m\u001b[43m(\u001b[49m\u001b[43mmodule_str\u001b[49m\u001b[43m)\u001b[49m\n\u001b[0;32m     77\u001b[0m \u001b[38;5;28;01mexcept\u001b[39;00m \u001b[38;5;167;01mModuleNotFoundError\u001b[39;00m:\n\u001b[0;32m     78\u001b[0m     \u001b[38;5;28;01mif\u001b[39;00m module_str \u001b[38;5;129;01min\u001b[39;00m BUILTINS_EXTS:\n",
      "File \u001b[1;32m~\\miniconda3\\envs\\525\\lib\\site-packages\\IPython\\core\\extensions.py:92\u001b[0m, in \u001b[0;36mExtensionManager._load_extension\u001b[1;34m(self, module_str)\u001b[0m\n\u001b[0;32m     90\u001b[0m \u001b[38;5;28;01mif\u001b[39;00m module_str \u001b[38;5;129;01mnot\u001b[39;00m \u001b[38;5;129;01min\u001b[39;00m sys\u001b[38;5;241m.\u001b[39mmodules:\n\u001b[0;32m     91\u001b[0m     \u001b[38;5;28;01mwith\u001b[39;00m prepended_to_syspath(\u001b[38;5;28mself\u001b[39m\u001b[38;5;241m.\u001b[39mipython_extension_dir):\n\u001b[1;32m---> 92\u001b[0m         mod \u001b[38;5;241m=\u001b[39m \u001b[43mimport_module\u001b[49m\u001b[43m(\u001b[49m\u001b[43mmodule_str\u001b[49m\u001b[43m)\u001b[49m\n\u001b[0;32m     93\u001b[0m         \u001b[38;5;28;01mif\u001b[39;00m mod\u001b[38;5;241m.\u001b[39m\u001b[38;5;18m__file__\u001b[39m\u001b[38;5;241m.\u001b[39mstartswith(\u001b[38;5;28mself\u001b[39m\u001b[38;5;241m.\u001b[39mipython_extension_dir):\n\u001b[0;32m     94\u001b[0m             \u001b[38;5;28mprint\u001b[39m((\u001b[38;5;124m\"\u001b[39m\u001b[38;5;124mLoading extensions from \u001b[39m\u001b[38;5;132;01m{dir}\u001b[39;00m\u001b[38;5;124m is deprecated. \u001b[39m\u001b[38;5;124m\"\u001b[39m\n\u001b[0;32m     95\u001b[0m                    \u001b[38;5;124m\"\u001b[39m\u001b[38;5;124mWe recommend managing extensions like any \u001b[39m\u001b[38;5;124m\"\u001b[39m\n\u001b[0;32m     96\u001b[0m                    \u001b[38;5;124m\"\u001b[39m\u001b[38;5;124mother Python packages, in site-packages.\u001b[39m\u001b[38;5;124m\"\u001b[39m)\u001b[38;5;241m.\u001b[39mformat(\n\u001b[0;32m     97\u001b[0m                   \u001b[38;5;28mdir\u001b[39m\u001b[38;5;241m=\u001b[39mcompress_user(\u001b[38;5;28mself\u001b[39m\u001b[38;5;241m.\u001b[39mipython_extension_dir)))\n",
      "File \u001b[1;32m~\\miniconda3\\envs\\525\\lib\\importlib\\__init__.py:127\u001b[0m, in \u001b[0;36mimport_module\u001b[1;34m(name, package)\u001b[0m\n\u001b[0;32m    125\u001b[0m             \u001b[38;5;28;01mbreak\u001b[39;00m\n\u001b[0;32m    126\u001b[0m         level \u001b[38;5;241m+\u001b[39m\u001b[38;5;241m=\u001b[39m \u001b[38;5;241m1\u001b[39m\n\u001b[1;32m--> 127\u001b[0m \u001b[38;5;28;01mreturn\u001b[39;00m \u001b[43m_bootstrap\u001b[49m\u001b[38;5;241;43m.\u001b[39;49m\u001b[43m_gcd_import\u001b[49m\u001b[43m(\u001b[49m\u001b[43mname\u001b[49m\u001b[43m[\u001b[49m\u001b[43mlevel\u001b[49m\u001b[43m:\u001b[49m\u001b[43m]\u001b[49m\u001b[43m,\u001b[49m\u001b[43m \u001b[49m\u001b[43mpackage\u001b[49m\u001b[43m,\u001b[49m\u001b[43m \u001b[49m\u001b[43mlevel\u001b[49m\u001b[43m)\u001b[49m\n",
      "File \u001b[1;32m<frozen importlib._bootstrap>:1014\u001b[0m, in \u001b[0;36m_gcd_import\u001b[1;34m(name, package, level)\u001b[0m\n",
      "File \u001b[1;32m<frozen importlib._bootstrap>:991\u001b[0m, in \u001b[0;36m_find_and_load\u001b[1;34m(name, import_)\u001b[0m\n",
      "File \u001b[1;32m<frozen importlib._bootstrap>:975\u001b[0m, in \u001b[0;36m_find_and_load_unlocked\u001b[1;34m(name, import_)\u001b[0m\n",
      "File \u001b[1;32m<frozen importlib._bootstrap>:671\u001b[0m, in \u001b[0;36m_load_unlocked\u001b[1;34m(spec)\u001b[0m\n",
      "File \u001b[1;32m<frozen importlib._bootstrap_external>:783\u001b[0m, in \u001b[0;36mexec_module\u001b[1;34m(self, module)\u001b[0m\n",
      "File \u001b[1;32m<frozen importlib._bootstrap>:219\u001b[0m, in \u001b[0;36m_call_with_frames_removed\u001b[1;34m(f, *args, **kwds)\u001b[0m\n",
      "File \u001b[1;32m~\\miniconda3\\envs\\525\\lib\\site-packages\\rpy2\\ipython\\__init__.py:1\u001b[0m, in \u001b[0;36m<module>\u001b[1;34m\u001b[0m\n\u001b[1;32m----> 1\u001b[0m \u001b[38;5;28;01mfrom\u001b[39;00m \u001b[38;5;21;01m.\u001b[39;00m \u001b[38;5;28;01mimport\u001b[39;00m rmagic\n\u001b[0;32m      3\u001b[0m load_ipython_extension \u001b[38;5;241m=\u001b[39m rmagic\u001b[38;5;241m.\u001b[39mload_ipython_extension\n",
      "File \u001b[1;32m~\\miniconda3\\envs\\525\\lib\\site-packages\\rpy2\\ipython\\rmagic.py:57\u001b[0m, in \u001b[0;36m<module>\u001b[1;34m\u001b[0m\n\u001b[0;32m     55\u001b[0m \u001b[38;5;28;01mimport\u001b[39;00m \u001b[38;5;21;01mrpy2\u001b[39;00m\u001b[38;5;21;01m.\u001b[39;00m\u001b[38;5;21;01mrinterface\u001b[39;00m \u001b[38;5;28;01mas\u001b[39;00m \u001b[38;5;21;01mri\u001b[39;00m\n\u001b[0;32m     56\u001b[0m \u001b[38;5;28;01mimport\u001b[39;00m \u001b[38;5;21;01mrpy2\u001b[39;00m\u001b[38;5;21;01m.\u001b[39;00m\u001b[38;5;21;01mrinterface_lib\u001b[39;00m\u001b[38;5;21;01m.\u001b[39;00m\u001b[38;5;21;01mcallbacks\u001b[39;00m\n\u001b[1;32m---> 57\u001b[0m \u001b[38;5;28;01mimport\u001b[39;00m \u001b[38;5;21;01mrpy2\u001b[39;00m\u001b[38;5;21;01m.\u001b[39;00m\u001b[38;5;21;01mrobjects\u001b[39;00m \u001b[38;5;28;01mas\u001b[39;00m \u001b[38;5;21;01mro\u001b[39;00m\n\u001b[0;32m     58\u001b[0m \u001b[38;5;28;01mimport\u001b[39;00m \u001b[38;5;21;01mrpy2\u001b[39;00m\u001b[38;5;21;01m.\u001b[39;00m\u001b[38;5;21;01mrobjects\u001b[39;00m\u001b[38;5;21;01m.\u001b[39;00m\u001b[38;5;21;01mpackages\u001b[39;00m \u001b[38;5;28;01mas\u001b[39;00m \u001b[38;5;21;01mrpacks\u001b[39;00m\n\u001b[0;32m     59\u001b[0m \u001b[38;5;28;01mfrom\u001b[39;00m \u001b[38;5;21;01mrpy2\u001b[39;00m\u001b[38;5;21;01m.\u001b[39;00m\u001b[38;5;21;01mrobjects\u001b[39;00m\u001b[38;5;21;01m.\u001b[39;00m\u001b[38;5;21;01mlib\u001b[39;00m \u001b[38;5;28;01mimport\u001b[39;00m grdevices\n",
      "File \u001b[1;32m~\\miniconda3\\envs\\525\\lib\\site-packages\\rpy2\\robjects\\__init__.py:20\u001b[0m, in \u001b[0;36m<module>\u001b[1;34m\u001b[0m\n\u001b[0;32m     17\u001b[0m \u001b[38;5;28;01mimport\u001b[39;00m \u001b[38;5;21;01mrpy2\u001b[39;00m\u001b[38;5;21;01m.\u001b[39;00m\u001b[38;5;21;01mrlike\u001b[39;00m\u001b[38;5;21;01m.\u001b[39;00m\u001b[38;5;21;01mcontainer\u001b[39;00m \u001b[38;5;28;01mas\u001b[39;00m \u001b[38;5;21;01mrlc\u001b[39;00m\n\u001b[0;32m     19\u001b[0m \u001b[38;5;28;01mfrom\u001b[39;00m \u001b[38;5;21;01mrpy2\u001b[39;00m\u001b[38;5;21;01m.\u001b[39;00m\u001b[38;5;21;01mrobjects\u001b[39;00m\u001b[38;5;21;01m.\u001b[39;00m\u001b[38;5;21;01mrobject\u001b[39;00m \u001b[38;5;28;01mimport\u001b[39;00m RObjectMixin, RObject\n\u001b[1;32m---> 20\u001b[0m \u001b[38;5;28;01mimport\u001b[39;00m \u001b[38;5;21;01mrpy2\u001b[39;00m\u001b[38;5;21;01m.\u001b[39;00m\u001b[38;5;21;01mrobjects\u001b[39;00m\u001b[38;5;21;01m.\u001b[39;00m\u001b[38;5;21;01mfunctions\u001b[39;00m\n\u001b[0;32m     21\u001b[0m \u001b[38;5;28;01mfrom\u001b[39;00m \u001b[38;5;21;01mrpy2\u001b[39;00m\u001b[38;5;21;01m.\u001b[39;00m\u001b[38;5;21;01mrobjects\u001b[39;00m\u001b[38;5;21;01m.\u001b[39;00m\u001b[38;5;21;01menvironments\u001b[39;00m \u001b[38;5;28;01mimport\u001b[39;00m (Environment,\n\u001b[0;32m     22\u001b[0m                                         local_context)\n\u001b[0;32m     23\u001b[0m \u001b[38;5;28;01mfrom\u001b[39;00m \u001b[38;5;21;01mrpy2\u001b[39;00m\u001b[38;5;21;01m.\u001b[39;00m\u001b[38;5;21;01mrobjects\u001b[39;00m\u001b[38;5;21;01m.\u001b[39;00m\u001b[38;5;21;01mmethods\u001b[39;00m \u001b[38;5;28;01mimport\u001b[39;00m methods_env\n",
      "File \u001b[1;32m~\\miniconda3\\envs\\525\\lib\\site-packages\\rpy2\\robjects\\functions.py:12\u001b[0m, in \u001b[0;36m<module>\u001b[1;34m\u001b[0m\n\u001b[0;32m     10\u001b[0m \u001b[38;5;28;01mimport\u001b[39;00m \u001b[38;5;21;01mrpy2\u001b[39;00m\u001b[38;5;21;01m.\u001b[39;00m\u001b[38;5;21;01mrinterface\u001b[39;00m \u001b[38;5;28;01mas\u001b[39;00m \u001b[38;5;21;01mrinterface\u001b[39;00m\n\u001b[0;32m     11\u001b[0m \u001b[38;5;28;01mfrom\u001b[39;00m \u001b[38;5;21;01mrpy2\u001b[39;00m\u001b[38;5;21;01m.\u001b[39;00m\u001b[38;5;21;01mrinterface_lib\u001b[39;00m \u001b[38;5;28;01mimport\u001b[39;00m na_values\n\u001b[1;32m---> 12\u001b[0m \u001b[38;5;28;01mfrom\u001b[39;00m \u001b[38;5;21;01mrpy2\u001b[39;00m\u001b[38;5;21;01m.\u001b[39;00m\u001b[38;5;21;01mrobjects\u001b[39;00m \u001b[38;5;28;01mimport\u001b[39;00m help\n\u001b[0;32m     13\u001b[0m \u001b[38;5;28;01mfrom\u001b[39;00m \u001b[38;5;21;01mrpy2\u001b[39;00m\u001b[38;5;21;01m.\u001b[39;00m\u001b[38;5;21;01mrobjects\u001b[39;00m \u001b[38;5;28;01mimport\u001b[39;00m conversion\n\u001b[0;32m     15\u001b[0m \u001b[38;5;28;01mfrom\u001b[39;00m \u001b[38;5;21;01mrpy2\u001b[39;00m\u001b[38;5;21;01m.\u001b[39;00m\u001b[38;5;21;01mrobjects\u001b[39;00m\u001b[38;5;21;01m.\u001b[39;00m\u001b[38;5;21;01mpackages_utils\u001b[39;00m \u001b[38;5;28;01mimport\u001b[39;00m (default_symbol_r2python,\n\u001b[0;32m     16\u001b[0m                                           default_symbol_resolve,\n\u001b[0;32m     17\u001b[0m                                           _map_symbols,\n\u001b[0;32m     18\u001b[0m                                           _fix_map_symbols)\n",
      "File \u001b[1;32m~\\miniconda3\\envs\\525\\lib\\site-packages\\rpy2\\robjects\\help.py:50\u001b[0m, in \u001b[0;36m<module>\u001b[1;34m\u001b[0m\n\u001b[0;32m     47\u001b[0m _get_namespace \u001b[38;5;241m=\u001b[39m rinterface\u001b[38;5;241m.\u001b[39mbaseenv[\u001b[38;5;124m'\u001b[39m\u001b[38;5;124mgetNamespace\u001b[39m\u001b[38;5;124m'\u001b[39m]\n\u001b[0;32m     48\u001b[0m _lazyload_dbfetch \u001b[38;5;241m=\u001b[39m rinterface\u001b[38;5;241m.\u001b[39mbaseenv[\u001b[38;5;124m'\u001b[39m\u001b[38;5;124mlazyLoadDBfetch\u001b[39m\u001b[38;5;124m'\u001b[39m]\n\u001b[1;32m---> 50\u001b[0m tools_ns \u001b[38;5;241m=\u001b[39m \u001b[43m_get_namespace\u001b[49m\u001b[43m(\u001b[49m\u001b[43mStrSexpVector\u001b[49m\u001b[43m(\u001b[49m\u001b[43m(\u001b[49m\u001b[38;5;124;43m'\u001b[39;49m\u001b[38;5;124;43mtools\u001b[39;49m\u001b[38;5;124;43m'\u001b[39;49m\u001b[43m,\u001b[49m\u001b[43m)\u001b[49m\u001b[43m)\u001b[49m\u001b[43m)\u001b[49m\n\u001b[0;32m     51\u001b[0m _Rd_db \u001b[38;5;241m=\u001b[39m tools_ns[\u001b[38;5;124m'\u001b[39m\u001b[38;5;124mRd_db\u001b[39m\u001b[38;5;124m'\u001b[39m]\n\u001b[0;32m     52\u001b[0m _Rd_deparse \u001b[38;5;241m=\u001b[39m tools_ns[\u001b[38;5;124m'\u001b[39m\u001b[38;5;124m.Rd_deparse\u001b[39m\u001b[38;5;124m'\u001b[39m]\n",
      "File \u001b[1;32m~\\miniconda3\\envs\\525\\lib\\site-packages\\rpy2\\rinterface_lib\\conversion.py:45\u001b[0m, in \u001b[0;36m_cdata_res_to_rinterface.<locals>._\u001b[1;34m(*args, **kwargs)\u001b[0m\n\u001b[0;32m     44\u001b[0m \u001b[38;5;28;01mdef\u001b[39;00m \u001b[38;5;21m_\u001b[39m(\u001b[38;5;241m*\u001b[39margs, \u001b[38;5;241m*\u001b[39m\u001b[38;5;241m*\u001b[39mkwargs):\n\u001b[1;32m---> 45\u001b[0m     cdata \u001b[38;5;241m=\u001b[39m \u001b[43mfunction\u001b[49m\u001b[43m(\u001b[49m\u001b[38;5;241;43m*\u001b[39;49m\u001b[43margs\u001b[49m\u001b[43m,\u001b[49m\u001b[43m \u001b[49m\u001b[38;5;241;43m*\u001b[39;49m\u001b[38;5;241;43m*\u001b[39;49m\u001b[43mkwargs\u001b[49m\u001b[43m)\u001b[49m\n\u001b[0;32m     46\u001b[0m     \u001b[38;5;66;03m# TODO: test cdata is of the expected CType\u001b[39;00m\n\u001b[0;32m     47\u001b[0m     \u001b[38;5;28;01mreturn\u001b[39;00m _cdata_to_rinterface(cdata)\n",
      "File \u001b[1;32m~\\miniconda3\\envs\\525\\lib\\site-packages\\rpy2\\rinterface.py:680\u001b[0m, in \u001b[0;36mSexpClosure.__call__\u001b[1;34m(self, *args, **kwargs)\u001b[0m\n\u001b[0;32m    673\u001b[0m     res \u001b[38;5;241m=\u001b[39m rmemory\u001b[38;5;241m.\u001b[39mprotect(\n\u001b[0;32m    674\u001b[0m         openrlib\u001b[38;5;241m.\u001b[39mrlib\u001b[38;5;241m.\u001b[39mR_tryEval(\n\u001b[0;32m    675\u001b[0m             call_r,\n\u001b[0;32m    676\u001b[0m             call_context\u001b[38;5;241m.\u001b[39m__sexp__\u001b[38;5;241m.\u001b[39m_cdata,\n\u001b[0;32m    677\u001b[0m             error_occured)\n\u001b[0;32m    678\u001b[0m     )\n\u001b[0;32m    679\u001b[0m     \u001b[38;5;28;01mif\u001b[39;00m error_occured[\u001b[38;5;241m0\u001b[39m]:\n\u001b[1;32m--> 680\u001b[0m         \u001b[38;5;28;01mraise\u001b[39;00m embedded\u001b[38;5;241m.\u001b[39mRRuntimeError(_rinterface\u001b[38;5;241m.\u001b[39m_geterrmessage())\n\u001b[0;32m    681\u001b[0m \u001b[38;5;28;01mreturn\u001b[39;00m res\n",
      "\u001b[1;31mRRuntimeError\u001b[0m: Error in inDL(x, as.logical(local), as.logical(now), ...) : \n  unable to load shared object 'C:/Program Files/R/R-4.1.1/library/tools/libs/x64/tools.dll':\n  LoadLibrary failure:  The specified procedure could not be found.\n"
     ]
    }
   ],
   "source": [
    "%load_ext rpy2.ipython"
   ]
  },
  {
   "cell_type": "markdown",
   "metadata": {},
   "source": [
    "**In order to select which method is the most appropriate to transfer the dataframe from python to R, we chose to try all methods and observe which method was more suitable for us (the code and output of the methods that were not selected are placed in markdown cells):**"
   ]
  },
  {
   "cell_type": "markdown",
   "metadata": {},
   "source": [
    "### Parquet Method"
   ]
  },
  {
   "cell_type": "markdown",
   "metadata": {},
   "source": [
    "```\n",
    "%%time\n",
    "df.to_parquet(\"../data/rainfall.parquet\")\n",
    "\n",
    ">>> CPU times: user 22.3 s, sys: 5.77 s, total: 28.1 s\n",
    "Wall time: 30.1 s\n",
    "```\n",
    "<br/><br/>"
   ]
  },
  {
   "cell_type": "markdown",
   "metadata": {},
   "source": [
    "```\n",
    "%%time\n",
    "%%R\n",
    "library(dplyr)\n",
    "library(arrow)\n",
    "parquet_rdf <- read_parquet(\"../data/rainfall.parquet\") |> collect()\n",
    "\n",
    ">>> CPU times: user 4.42 s, sys: 4.37 s, total: 8.8 s\n",
    "Wall time: 8.37 s\n",
    "```"
   ]
  },
  {
   "cell_type": "markdown",
   "metadata": {},
   "source": [
    "### Feather Method"
   ]
  },
  {
   "cell_type": "markdown",
   "metadata": {},
   "source": [
    "```\n",
    "%%time\n",
    "import pyarrow.feather as feather\n",
    "feather.write_feather(df, '../data/rainfall.feather')\n",
    "\n",
    ">>> CPU times: user 4.5 s, sys: 4.45 s, total: 8.95 s\n",
    "Wall time: 6.89 s\n",
    "```\n",
    "<br/><br/>"
   ]
  },
  {
   "cell_type": "markdown",
   "metadata": {},
   "source": [
    "```\n",
    "%%time\n",
    "%%R\n",
    "feather_rdf <- read_feather(\"../data/rainfall.feather\") |> collect()\n",
    "\n",
    ">>> CPU times: user 1.09 s, sys: 1.84 s, total: 2.93 s\n",
    "Wall time: 4.31 s\n",
    "```"
   ]
  },
  {
   "cell_type": "markdown",
   "metadata": {},
   "source": [
    "### Arrow Exchange Method"
   ]
  },
  {
   "cell_type": "code",
   "execution_count": 46,
   "metadata": {},
   "outputs": [
    {
     "name": "stderr",
     "output_type": "stream",
     "text": [
      "R[write to console]: Error: package or namespace load failed for 'tools' in inDL(x, as.logical(local), as.logical(now), ...):\n",
      " unable to load shared object 'C:/Program Files/R/R-4.1.1/library/tools/libs/x64/tools.dll':\n",
      "  LoadLibrary failure:  The specified procedure could not be found.\n",
      "\n",
      "\n",
      "R[write to console]: Error in inDL(x, as.logical(local), as.logical(now), ...) : \n",
      "  unable to load shared object 'C:/Program Files/R/R-4.1.1/library/tools/libs/x64/tools.dll':\n",
      "  LoadLibrary failure:  The specified procedure could not be found.\n",
      "\n",
      "R[write to console]: In addition: \n",
      "R[write to console]: Warning message:\n",
      "\n",
      "R[write to console]: package 'tools' was built under R version 4.1.1 \n",
      "\n"
     ]
    },
    {
     "ename": "RRuntimeError",
     "evalue": "Error in inDL(x, as.logical(local), as.logical(now), ...) : \n  unable to load shared object 'C:/Program Files/R/R-4.1.1/library/tools/libs/x64/tools.dll':\n  LoadLibrary failure:  The specified procedure could not be found.\n",
     "output_type": "error",
     "traceback": [
      "\u001b[1;31m---------------------------------------------------------------------------\u001b[0m",
      "\u001b[1;31mRRuntimeError\u001b[0m                             Traceback (most recent call last)",
      "Input \u001b[1;32mIn [46]\u001b[0m, in \u001b[0;36m<cell line: 1>\u001b[1;34m()\u001b[0m\n\u001b[1;32m----> 1\u001b[0m \u001b[38;5;28;01mimport\u001b[39;00m \u001b[38;5;21;01mrpy2\u001b[39;00m\u001b[38;5;21;01m.\u001b[39;00m\u001b[38;5;21;01mrobjects\u001b[39;00m\u001b[38;5;21;01m.\u001b[39;00m\u001b[38;5;21;01mconversion\u001b[39;00m\n\u001b[0;32m      2\u001b[0m \u001b[38;5;28;01mimport\u001b[39;00m \u001b[38;5;21;01mpyarrow\u001b[39;00m\n\u001b[0;32m      3\u001b[0m \u001b[38;5;28;01mimport\u001b[39;00m \u001b[38;5;21;01mrpy2\u001b[39;00m\u001b[38;5;21;01m.\u001b[39;00m\u001b[38;5;21;01mrinterface\u001b[39;00m\n",
      "File \u001b[1;32m~\\miniconda3\\envs\\525\\lib\\site-packages\\rpy2\\robjects\\__init__.py:20\u001b[0m, in \u001b[0;36m<module>\u001b[1;34m\u001b[0m\n\u001b[0;32m     17\u001b[0m \u001b[38;5;28;01mimport\u001b[39;00m \u001b[38;5;21;01mrpy2\u001b[39;00m\u001b[38;5;21;01m.\u001b[39;00m\u001b[38;5;21;01mrlike\u001b[39;00m\u001b[38;5;21;01m.\u001b[39;00m\u001b[38;5;21;01mcontainer\u001b[39;00m \u001b[38;5;28;01mas\u001b[39;00m \u001b[38;5;21;01mrlc\u001b[39;00m\n\u001b[0;32m     19\u001b[0m \u001b[38;5;28;01mfrom\u001b[39;00m \u001b[38;5;21;01mrpy2\u001b[39;00m\u001b[38;5;21;01m.\u001b[39;00m\u001b[38;5;21;01mrobjects\u001b[39;00m\u001b[38;5;21;01m.\u001b[39;00m\u001b[38;5;21;01mrobject\u001b[39;00m \u001b[38;5;28;01mimport\u001b[39;00m RObjectMixin, RObject\n\u001b[1;32m---> 20\u001b[0m \u001b[38;5;28;01mimport\u001b[39;00m \u001b[38;5;21;01mrpy2\u001b[39;00m\u001b[38;5;21;01m.\u001b[39;00m\u001b[38;5;21;01mrobjects\u001b[39;00m\u001b[38;5;21;01m.\u001b[39;00m\u001b[38;5;21;01mfunctions\u001b[39;00m\n\u001b[0;32m     21\u001b[0m \u001b[38;5;28;01mfrom\u001b[39;00m \u001b[38;5;21;01mrpy2\u001b[39;00m\u001b[38;5;21;01m.\u001b[39;00m\u001b[38;5;21;01mrobjects\u001b[39;00m\u001b[38;5;21;01m.\u001b[39;00m\u001b[38;5;21;01menvironments\u001b[39;00m \u001b[38;5;28;01mimport\u001b[39;00m (Environment,\n\u001b[0;32m     22\u001b[0m                                         local_context)\n\u001b[0;32m     23\u001b[0m \u001b[38;5;28;01mfrom\u001b[39;00m \u001b[38;5;21;01mrpy2\u001b[39;00m\u001b[38;5;21;01m.\u001b[39;00m\u001b[38;5;21;01mrobjects\u001b[39;00m\u001b[38;5;21;01m.\u001b[39;00m\u001b[38;5;21;01mmethods\u001b[39;00m \u001b[38;5;28;01mimport\u001b[39;00m methods_env\n",
      "File \u001b[1;32m~\\miniconda3\\envs\\525\\lib\\site-packages\\rpy2\\robjects\\functions.py:12\u001b[0m, in \u001b[0;36m<module>\u001b[1;34m\u001b[0m\n\u001b[0;32m     10\u001b[0m \u001b[38;5;28;01mimport\u001b[39;00m \u001b[38;5;21;01mrpy2\u001b[39;00m\u001b[38;5;21;01m.\u001b[39;00m\u001b[38;5;21;01mrinterface\u001b[39;00m \u001b[38;5;28;01mas\u001b[39;00m \u001b[38;5;21;01mrinterface\u001b[39;00m\n\u001b[0;32m     11\u001b[0m \u001b[38;5;28;01mfrom\u001b[39;00m \u001b[38;5;21;01mrpy2\u001b[39;00m\u001b[38;5;21;01m.\u001b[39;00m\u001b[38;5;21;01mrinterface_lib\u001b[39;00m \u001b[38;5;28;01mimport\u001b[39;00m na_values\n\u001b[1;32m---> 12\u001b[0m \u001b[38;5;28;01mfrom\u001b[39;00m \u001b[38;5;21;01mrpy2\u001b[39;00m\u001b[38;5;21;01m.\u001b[39;00m\u001b[38;5;21;01mrobjects\u001b[39;00m \u001b[38;5;28;01mimport\u001b[39;00m help\n\u001b[0;32m     13\u001b[0m \u001b[38;5;28;01mfrom\u001b[39;00m \u001b[38;5;21;01mrpy2\u001b[39;00m\u001b[38;5;21;01m.\u001b[39;00m\u001b[38;5;21;01mrobjects\u001b[39;00m \u001b[38;5;28;01mimport\u001b[39;00m conversion\n\u001b[0;32m     15\u001b[0m \u001b[38;5;28;01mfrom\u001b[39;00m \u001b[38;5;21;01mrpy2\u001b[39;00m\u001b[38;5;21;01m.\u001b[39;00m\u001b[38;5;21;01mrobjects\u001b[39;00m\u001b[38;5;21;01m.\u001b[39;00m\u001b[38;5;21;01mpackages_utils\u001b[39;00m \u001b[38;5;28;01mimport\u001b[39;00m (default_symbol_r2python,\n\u001b[0;32m     16\u001b[0m                                           default_symbol_resolve,\n\u001b[0;32m     17\u001b[0m                                           _map_symbols,\n\u001b[0;32m     18\u001b[0m                                           _fix_map_symbols)\n",
      "File \u001b[1;32m~\\miniconda3\\envs\\525\\lib\\site-packages\\rpy2\\robjects\\help.py:50\u001b[0m, in \u001b[0;36m<module>\u001b[1;34m\u001b[0m\n\u001b[0;32m     47\u001b[0m _get_namespace \u001b[38;5;241m=\u001b[39m rinterface\u001b[38;5;241m.\u001b[39mbaseenv[\u001b[38;5;124m'\u001b[39m\u001b[38;5;124mgetNamespace\u001b[39m\u001b[38;5;124m'\u001b[39m]\n\u001b[0;32m     48\u001b[0m _lazyload_dbfetch \u001b[38;5;241m=\u001b[39m rinterface\u001b[38;5;241m.\u001b[39mbaseenv[\u001b[38;5;124m'\u001b[39m\u001b[38;5;124mlazyLoadDBfetch\u001b[39m\u001b[38;5;124m'\u001b[39m]\n\u001b[1;32m---> 50\u001b[0m tools_ns \u001b[38;5;241m=\u001b[39m \u001b[43m_get_namespace\u001b[49m\u001b[43m(\u001b[49m\u001b[43mStrSexpVector\u001b[49m\u001b[43m(\u001b[49m\u001b[43m(\u001b[49m\u001b[38;5;124;43m'\u001b[39;49m\u001b[38;5;124;43mtools\u001b[39;49m\u001b[38;5;124;43m'\u001b[39;49m\u001b[43m,\u001b[49m\u001b[43m)\u001b[49m\u001b[43m)\u001b[49m\u001b[43m)\u001b[49m\n\u001b[0;32m     51\u001b[0m _Rd_db \u001b[38;5;241m=\u001b[39m tools_ns[\u001b[38;5;124m'\u001b[39m\u001b[38;5;124mRd_db\u001b[39m\u001b[38;5;124m'\u001b[39m]\n\u001b[0;32m     52\u001b[0m _Rd_deparse \u001b[38;5;241m=\u001b[39m tools_ns[\u001b[38;5;124m'\u001b[39m\u001b[38;5;124m.Rd_deparse\u001b[39m\u001b[38;5;124m'\u001b[39m]\n",
      "File \u001b[1;32m~\\miniconda3\\envs\\525\\lib\\site-packages\\rpy2\\rinterface_lib\\conversion.py:45\u001b[0m, in \u001b[0;36m_cdata_res_to_rinterface.<locals>._\u001b[1;34m(*args, **kwargs)\u001b[0m\n\u001b[0;32m     44\u001b[0m \u001b[38;5;28;01mdef\u001b[39;00m \u001b[38;5;21m_\u001b[39m(\u001b[38;5;241m*\u001b[39margs, \u001b[38;5;241m*\u001b[39m\u001b[38;5;241m*\u001b[39mkwargs):\n\u001b[1;32m---> 45\u001b[0m     cdata \u001b[38;5;241m=\u001b[39m \u001b[43mfunction\u001b[49m\u001b[43m(\u001b[49m\u001b[38;5;241;43m*\u001b[39;49m\u001b[43margs\u001b[49m\u001b[43m,\u001b[49m\u001b[43m \u001b[49m\u001b[38;5;241;43m*\u001b[39;49m\u001b[38;5;241;43m*\u001b[39;49m\u001b[43mkwargs\u001b[49m\u001b[43m)\u001b[49m\n\u001b[0;32m     46\u001b[0m     \u001b[38;5;66;03m# TODO: test cdata is of the expected CType\u001b[39;00m\n\u001b[0;32m     47\u001b[0m     \u001b[38;5;28;01mreturn\u001b[39;00m _cdata_to_rinterface(cdata)\n",
      "File \u001b[1;32m~\\miniconda3\\envs\\525\\lib\\site-packages\\rpy2\\rinterface.py:680\u001b[0m, in \u001b[0;36mSexpClosure.__call__\u001b[1;34m(self, *args, **kwargs)\u001b[0m\n\u001b[0;32m    673\u001b[0m     res \u001b[38;5;241m=\u001b[39m rmemory\u001b[38;5;241m.\u001b[39mprotect(\n\u001b[0;32m    674\u001b[0m         openrlib\u001b[38;5;241m.\u001b[39mrlib\u001b[38;5;241m.\u001b[39mR_tryEval(\n\u001b[0;32m    675\u001b[0m             call_r,\n\u001b[0;32m    676\u001b[0m             call_context\u001b[38;5;241m.\u001b[39m__sexp__\u001b[38;5;241m.\u001b[39m_cdata,\n\u001b[0;32m    677\u001b[0m             error_occured)\n\u001b[0;32m    678\u001b[0m     )\n\u001b[0;32m    679\u001b[0m     \u001b[38;5;28;01mif\u001b[39;00m error_occured[\u001b[38;5;241m0\u001b[39m]:\n\u001b[1;32m--> 680\u001b[0m         \u001b[38;5;28;01mraise\u001b[39;00m embedded\u001b[38;5;241m.\u001b[39mRRuntimeError(_rinterface\u001b[38;5;241m.\u001b[39m_geterrmessage())\n\u001b[0;32m    681\u001b[0m \u001b[38;5;28;01mreturn\u001b[39;00m res\n",
      "\u001b[1;31mRRuntimeError\u001b[0m: Error in inDL(x, as.logical(local), as.logical(now), ...) : \n  unable to load shared object 'C:/Program Files/R/R-4.1.1/library/tools/libs/x64/tools.dll':\n  LoadLibrary failure:  The specified procedure could not be found.\n"
     ]
    }
   ],
   "source": [
    "import rpy2.robjects.conversion\n",
    "import pyarrow\n",
    "import rpy2.rinterface\n",
    "import rpy2_arrow.pyarrow_rarrow as pyra\n",
    "from rpy2.robjects.packages import importr\n"
   ]
  },
  {
   "cell_type": "code",
   "execution_count": 47,
   "metadata": {},
   "outputs": [
    {
     "ename": "NameError",
     "evalue": "name 'pyra' is not defined",
     "output_type": "error",
     "traceback": [
      "\u001b[1;31m---------------------------------------------------------------------------\u001b[0m",
      "\u001b[1;31mNameError\u001b[0m                                 Traceback (most recent call last)",
      "File \u001b[1;32m<timed exec>:1\u001b[0m, in \u001b[0;36m<module>\u001b[1;34m\u001b[0m\n",
      "\u001b[1;31mNameError\u001b[0m: name 'pyra' is not defined"
     ]
    }
   ],
   "source": [
    "%%time\n",
    "arrow_rframe = pyra.converter.py2rpy(pyarrow.Table.from_pandas(df))"
   ]
  },
  {
   "cell_type": "code",
   "execution_count": 40,
   "metadata": {},
   "outputs": [
    {
     "name": "stderr",
     "output_type": "stream",
     "text": [
      "R[write to console]: \n",
      "Attaching package: ‘dplyr’\n",
      "\n",
      "\n",
      "R[write to console]: The following objects are masked from ‘package:stats’:\n",
      "\n",
      "    filter, lag\n",
      "\n",
      "\n",
      "R[write to console]: The following objects are masked from ‘package:base’:\n",
      "\n",
      "    intersect, setdiff, setequal, union\n",
      "\n",
      "\n"
     ]
    },
    {
     "name": "stdout",
     "output_type": "stream",
     "text": [
      "CPU times: user 180 ms, sys: 87.1 ms, total: 268 ms\n",
      "Wall time: 515 ms\n"
     ]
    }
   ],
   "source": [
    "%%time\n",
    "%%R -i arrow_rframe\n",
    "library(dplyr)\n",
    "arrow_rframe <- arrow_rframe |> collect()"
   ]
  },
  {
   "cell_type": "markdown",
   "metadata": {},
   "source": [
    "### Checking size of different files"
   ]
  },
  {
   "cell_type": "code",
   "execution_count": 48,
   "metadata": {},
   "outputs": [
    {
     "data": {
      "text/plain": [
       "5970.596176999999"
      ]
     },
     "execution_count": 48,
     "metadata": {},
     "output_type": "execute_result"
    }
   ],
   "source": [
    "os.path.getsize(\"../data/combined_csv.csv\")*1e-6"
   ]
  },
  {
   "cell_type": "code",
   "execution_count": 49,
   "metadata": {},
   "outputs": [
    {
     "data": {
      "text/plain": [
       "716.238154"
      ]
     },
     "execution_count": 49,
     "metadata": {},
     "output_type": "execute_result"
    }
   ],
   "source": [
    "os.path.getsize(\"../data/rainfall.feather\")*1e-6"
   ]
  },
  {
   "cell_type": "code",
   "execution_count": 50,
   "metadata": {},
   "outputs": [
    {
     "data": {
      "text/plain": [
       "701.2660629999999"
      ]
     },
     "execution_count": 50,
     "metadata": {},
     "output_type": "execute_result"
    }
   ],
   "source": [
    "os.path.getsize(\"../data/rainfall.parquet\")*1e-6"
   ]
  },
  {
   "cell_type": "markdown",
   "metadata": {},
   "source": [
    "**Summary of different transfer methods:**\n",
    "\n",
    "\n",
    "| Method | Estimated Wall Time | File memory |\n",
    "| --- | --- | --- |\n",
    "| Arrow Exchange | 9s | 5.98 GB |\n",
    "| Feather file | 11s | 716 MB |\n",
    "| Parquet file | 38s | 701 MB |\n",
    "\n",
    "> Note: Wall times of different transfer methods were estimated using a Apple M1 chip MacOS Big Sur with 8GB of RAM"
   ]
  },
  {
   "cell_type": "markdown",
   "metadata": {},
   "source": [
    "**Justification:** The 'Arrow Exchange' method appeared to speed up the conversion of a pandas DataFrame into tabular data that is accessible for R. We opted for this method since it decreases the time spent during the serialization and de-serialization process while also avoiding the creation of unnecessary copies of the data. The ability to process data in parallel and its efficient serialization process makes the 'Arrow Exchange' method a much better option than the Pandas Exchange method (which is not shown here). The file storage format appears to be much more memory-intensive compared to the other file storage formats. If we are concerned about storage space, we might want to consider a different method that saves memory. However, for our purposes the 'Arrow Exchange' method is fine and provides a level of flexibility to be able to work with complex data on any computer program."
   ]
  },
  {
   "cell_type": "markdown",
   "metadata": {},
   "source": [
    "### EDA"
   ]
  },
  {
   "cell_type": "markdown",
   "metadata": {},
   "source": [
    "**Structure of the Data:**"
   ]
  },
  {
   "cell_type": "code",
   "execution_count": 44,
   "metadata": {},
   "outputs": [
    {
     "name": "stdout",
     "output_type": "stream",
     "text": [
      "tibble [62,467,843 × 7] (S3: tbl_df/tbl/data.frame)\n",
      " $ lat_min      : num [1:62467843] -35.4 -35.4 -35.4 -35.4 -35.4 ...\n",
      " $ lat_max      : num [1:62467843] -33.6 -33.6 -33.6 -33.6 -33.6 ...\n",
      " $ lon_min      : num [1:62467843] 142 142 142 142 142 ...\n",
      " $ lon_max      : num [1:62467843] 143 143 143 143 143 ...\n",
      " $ rain (mm/day): num [1:62467843] 4.24e-13 4.22e-13 4.50e-13 4.25e-13 4.27e-13 ...\n",
      " $ model        : chr [1:62467843] \"MPI-ESM-1-2-HAM\" \"MPI-ESM-1-2-HAM\" \"MPI-ESM-1-2-HAM\" \"MPI-ESM-1-2-HAM\" ...\n",
      " $ time         : chr [1:62467843] \"1889-01-01 12:00:00\" \"1889-01-02 12:00:00\" \"1889-01-03 12:00:00\" \"1889-01-04 12:00:00\" ...\n"
     ]
    }
   ],
   "source": [
    "%%R\n",
    "str(arrow_rframe)"
   ]
  },
  {
   "cell_type": "markdown",
   "metadata": {},
   "source": [
    "**Summary Statistics For Each Columns**"
   ]
  },
  {
   "cell_type": "code",
   "execution_count": 45,
   "metadata": {},
   "outputs": [
    {
     "name": "stdout",
     "output_type": "stream",
     "text": [
      "    lat_min           lat_max          lon_min           lon_max     \n",
      " Min.   :-36       Min.   :-36.00   Min.   :141       Min.   :141.2  \n",
      " 1st Qu.:-35       1st Qu.:-33.66   1st Qu.:143       1st Qu.:145.0  \n",
      " Median :-33       Median :-32.04   Median :147       Median :148.1  \n",
      " Mean   :-33       Mean   :-31.98   Mean   :147       Mean   :148.2  \n",
      " 3rd Qu.:-31       3rd Qu.:-30.16   3rd Qu.:150       3rd Qu.:151.3  \n",
      " Max.   :-30       Max.   :-27.91   Max.   :154       Max.   :155.6  \n",
      " NA's   :3219300                    NA's   :3219300                  \n",
      " rain (mm/day)        model               time          \n",
      " Min.   :  0       Length:62467843    Length:62467843   \n",
      " 1st Qu.:  0       Class :character   Class :character  \n",
      " Median :  0       Mode  :character   Mode  :character  \n",
      " Mean   :  2                                            \n",
      " 3rd Qu.:  1                                            \n",
      " Max.   :433                                            \n",
      " NA's   :3219300                                        \n"
     ]
    }
   ],
   "source": [
    "%%R\n",
    "arrow_rframe |> summary()"
   ]
  },
  {
   "cell_type": "markdown",
   "metadata": {},
   "source": [
    "**Mean Rainfall (mm/day) Computed For Each Model**"
   ]
  },
  {
   "cell_type": "code",
   "execution_count": 55,
   "metadata": {},
   "outputs": [
    {
     "name": "stdout",
     "output_type": "stream",
     "text": [
      "# A tibble: 27 × 2\n",
      "   model         mean_rainfall\n",
      "   <chr>                 <dbl>\n",
      " 1 INM-CM4-8              2.81\n",
      " 2 INM-CM5-0              2.67\n",
      " 3 CMCC-CM2-SR5           2.38\n",
      " 4 MIROC6                 2.30\n",
      " 5 CMCC-CM2-HR4           2.28\n",
      " 6 CMCC-ESM2              2.27\n",
      " 7 NorESM2-MM             2.23\n",
      " 8 NorESM2-LM             2.23\n",
      " 9 TaiESM1                2.22\n",
      "10 ACCESS-ESM1-5          2.22\n",
      "# … with 17 more rows\n"
     ]
    }
   ],
   "source": [
    "%%R\n",
    "library(dplyr)\n",
    "library(ggplot2)\n",
    "mean_rainfall_df <- arrow_rframe |> group_by(model) |> summarize(mean_rainfall = mean(`rain (mm/day)`)) |> arrange(desc(mean_rainfall))\n",
    "mean_rainfall"
   ]
  },
  {
   "cell_type": "code",
   "execution_count": 56,
   "metadata": {},
   "outputs": [
    {
     "data": {
      "image/png": "[encoded data removed]"
     },
     "metadata": {},
     "output_type": "display_data"
    }
   ],
   "source": [
    "%%R\n",
    "mean_rainfall_df |> ggplot() +\n",
    "    aes(x = mean_rainfall, y = reorder(model, -mean_rainfall)) +\n",
    "    geom_bar(stat = \"identity\", fill = \"skyblue\") +\n",
    "    labs(x = \"Mean Rainfall (mm/day)\", y = \"Model\", title = \"Mean rainfall by model type\")"
   ]
  },
  {
   "cell_type": "markdown",
   "metadata": {},
   "source": [
    "**Counts of Different Models:**"
   ]
  },
  {
   "cell_type": "code",
   "execution_count": 59,
   "metadata": {},
   "outputs": [
    {
     "name": "stdout",
     "output_type": "stream",
     "text": [
      "# A tibble: 27 × 2\n",
      "   model               n\n",
      "   <chr>           <int>\n",
      " 1 MPI-ESM1-2-HR 5154240\n",
      " 2 CMCC-CM2-HR4  3541230\n",
      " 3 CMCC-CM2-SR5  3541230\n",
      " 4 CMCC-ESM2     3541230\n",
      " 5 NorESM2-MM    3541230\n",
      " 6 TaiESM1       3541230\n",
      " 7 SAM0-UNICON   3541153\n",
      " 8 FGOALS-f3-L   3219300\n",
      " 9 GFDL-CM4      3219300\n",
      "10 GFDL-ESM4     3219300\n",
      "# … with 17 more rows\n",
      "CPU times: user 986 ms, sys: 590 ms, total: 1.58 s\n",
      "Wall time: 1.98 s\n"
     ]
    }
   ],
   "source": [
    "%%time\n",
    "%%R\n",
    "model_counts_df <- arrow_rframe |> count(model) |> arrange(desc(n))\n",
    "model_counts_df"
   ]
  },
  {
   "cell_type": "code",
   "execution_count": 60,
   "metadata": {},
   "outputs": [
    {
     "data": {
      "image/png": "[encoded data removed]"
     },
     "metadata": {},
     "output_type": "display_data"
    }
   ],
   "source": [
    "%%R\n",
    "model_counts_df |> ggplot() +\n",
    "    geom_bar(aes(x = n, y = reorder(model, -n)), stat=\"identity\", fill = \"skyblue\") +\n",
    "    labs(x = \"Count\", y = \"Model\", title = \"Counts of recordings by model type\")"
   ]
  },
  {
   "cell_type": "markdown",
   "metadata": {},
   "source": [
    "**Here is a summary of the time taken to obtain the model counts using the Arrow Exchange Method:**"
   ]
  },
  {
   "cell_type": "markdown",
   "metadata": {},
   "source": [
    "| Team Member | OS  | RAM | Processor        | Is SSD | Time |\n",
    "|-------------|--------------|-----|------------------|--------|------|\n",
    "| Nikita      | Ubuntu 20.04 | 8GB | 8th Gen Core i7  | Yes    |  \n",
    "| Margot      |  Windows 10   | 12GB | 10th Gen-Core i7 | Yes   |  |   \n",
    "| Thea Wenxin |   MacOS Monterey |  16GB   |   Apple M1 chip |  Yes    |  \n",
    "| Kiran       |    MacOS Big Sur          |   8GB  |     Apple M1 chip |    Yes    |  1.98s |"
   ]
  },
  {
   "cell_type": "code",
   "execution_count": null,
   "metadata": {},
   "outputs": [],
   "source": []
  },
  {
   "cell_type": "code",
   "execution_count": null,
   "metadata": {},
   "outputs": [],
   "source": []
  },
  {
   "cell_type": "code",
   "execution_count": null,
   "metadata": {},
   "outputs": [],
   "source": []
  }
 ],
 "metadata": {
  "interpreter": {
   "hash": "916dbcbb3f70747c44a77c7bcd40155683ae19c65e1c03b4aa3499c5328201f1"
  },
  "kernelspec": {
   "display_name": "Python [conda env:525]",
   "language": "python",
   "name": "conda-env-525-py"
  },
  "language_info": {
   "codemirror_mode": {
    "name": "ipython",
    "version": 3
   },
   "file_extension": ".py",
   "mimetype": "text/x-python",
   "name": "python",
   "nbconvert_exporter": "python",
   "pygments_lexer": "ipython3",
   "version": "3.8.6"
  }
 },
 "nbformat": 4,
 "nbformat_minor": 4
}
